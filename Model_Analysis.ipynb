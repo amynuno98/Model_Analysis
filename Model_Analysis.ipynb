{
 "cells": [
  {
   "cell_type": "markdown",
   "source": [
    "# Model Analysis\n",
    "## An assessment of Sea Surface Salinity(SSS) CeNCOOS(nowcast), RTOFS(forecast), observed and climatological data in the Monterey Bay Area.\n",
    "### This notebook presents an analysis of CeNCOOS and RTOFS predictions for a location where we have observed and climatological SSS recorded.\n",
    "### First, we load necessary packages and function. We prompt user date input for both models and observed data. Climatological data should be downloaded to computer beforehand. Data sources specified. We have necessary functions for data extraction.\n",
    "### Second, we fetch and process RTOFS (netCDF format) and CeNCOOS (netCDF format), from an online server and processed using the xarray package. We fetch both Observed and Climatological data. We group data by day and month. For RTOFS we also sort by lead day.\n",
    "### Third, we merge all 4 data sets and produce summary statistics and plot.\n"
   ],
   "metadata": {
    "collapsed": false,
    "pycharm": {
     "name": "#%% md\n"
    }
   }
  },
  {
   "cell_type": "code",
   "execution_count": 1,
   "outputs": [],
   "source": [
    "from typing import Tuple, Dict, List\n",
    "\n",
    "import numpy as np\n",
    "import xarray as xr\n",
    "import pandas as pd\n",
    "import requests\n",
    "import os\n",
    "import matplotlib.pyplot as plt\n",
    "import glob\n",
    "import sys\n",
    "\n",
    "sys.path.append(os.path.relpath('../src'))\n",
    "\n",
    "from model_analysis import sum_1_column\n",
    "from model_analysis import in_bounds\n",
    "from model_analysis import sum_cmatrix\n",
    "from model_analysis import pairwise_comparison"
   ],
   "metadata": {
    "collapsed": false,
    "pycharm": {
     "name": "#%%\n"
    }
   }
  },
  {
   "cell_type": "code",
   "execution_count": 2,
   "outputs": [],
   "source": [
    "#user input for forecast, nowcast and observed dates\n",
    "\n",
    "# format of lists [year,month,day]\n",
    "\n",
    "#RTOFS\n",
    "min_date_RTOFS = [2021,12,15] #today's date\n",
    "max_date_RTOFS = [2021,11,20] #lead date ahead\n",
    "LeadDay = 1 #specify desired lead day\n",
    "\n",
    "#Nowcast\n",
    "min_date_CeNCOOS = [2021,8,1] #initial nowcast date desired\n",
    "max_date_CeNCOOS = [2021,12,16] #tomorrows date\n",
    "\n",
    "#Observed\n",
    "min_date_Observed = [2021, 8, 1] #initial nowcast date desired\n",
    "max_date_Observed = [2021, 12, 16] #tomorrows date\n",
    "\n",
    "#need folder specifications"
   ],
   "metadata": {
    "collapsed": false,
    "pycharm": {
     "name": "#%%\n"
    }
   }
  },
  {
   "cell_type": "code",
   "execution_count": 3,
   "metadata": {},
   "outputs": [],
   "source": [
    "#data sources\n",
    "\n",
    "sources = [\"RTOFS\",\"CeNCOOS\",\"Observed\"]\n",
    "\n",
    "sourcesabbv = [\"R\",\"C\",\"O\"]\n",
    "\n",
    "models = [\"RTOFS\",\"CeNCOOS\"]\n",
    "\n",
    "modelabbv = [\"R\",\"C\"]\n",
    "\n",
    "var_name = {'count':0,'tally':0,'total':0,'summ':0,'count3':0,'tally3':0,'count2':0,'tally2':0,'total2':0,'summ2':0}\n",
    "\n",
    "name = list(var_name.keys())"
   ]
  },
  {
   "cell_type": "code",
   "execution_count": 4,
   "outputs": [],
   "source": [
    "#functions for model extraction\n",
    "\n",
    "def pad_with_zeros(x: int) -> str:\n",
    "    return str(x) if x > 9 else '0' + str(x)\n",
    "\n",
    "def create_date_string(date: Tuple[int, int, int]) -> str:\n",
    "    return str(date[0]) + '-' + pad_with_zeros(date[1]) + '-' + pad_with_zeros(date[2])\n",
    "\n",
    "def convert_time_tuple_to_str(x: Tuple[int, int, int]):\n",
    "    \"\"\"\n",
    "    Converts a YYYY-MM-DD date, provided as a tuple, into a string\n",
    "\n",
    "    :param x: tuple with year, month, day as integers\n",
    "    :return: date string: YYYY-MM-DD, len=8, with 0s padding MM and DD as needed\n",
    "    \"\"\"\n",
    "    return str(x[0]) + '-' + pad_with_zeros(x[1]) + '-' + pad_with_zeros(x[2])\n",
    "\n",
    "\n",
    "def convert_str_to_date(date_string: str) -> np.datetime64:\n",
    "    return np.datetime64(date_string)\n",
    "\n",
    "def extract_data_from_nc(nc_folder: str, ocean_var: str) -> pd.DataFrame:\n",
    "    \"\"\"\n",
    "    Read netCDF file from disk and extract data from one ocean variable\n",
    "    :param nc_folder: location of 'cencoos.nc' file\n",
    "    :param ocean_var: one of 'sst' (sea surface temperature),\n",
    "                             'sss' (sea surface salinity),\n",
    "                             'u' (surface zonal current speed),\n",
    "                             'v' (surface meridional current speed)\n",
    "                             'zeta'(sea surface height)\n",
    "    \"\"\"\n",
    "    if not ocean_var in ['sst', 'sss', 'u', 'v', 'zeta']:\n",
    "        raise Exception('Variable not in file')\n",
    "    b = xr.open_dataset(nc_folder + 'cencoos.nc')\n",
    "    df = pd.DataFrame({'time': np.array(b['time']),\n",
    "                      ocean_var: np.array([x[0][0] for x in b[ocean_var]])})\n",
    "    return df"
   ],
   "metadata": {
    "collapsed": false,
    "pycharm": {
     "name": "#%%\n"
    }
   }
  },
  {
   "cell_type": "code",
   "execution_count": 5,
   "outputs": [],
   "source": [
    "#downloading functions for RTOFS data\n",
    "\n",
    "def get_rtofs2d(\n",
    "        lon: float,\n",
    "        lat: float,\n",
    "        min_date: Tuple[int, int, int],\n",
    "        max_date: Tuple[int, int, int],\n",
    "        output_folder: str,\n",
    "        use_si_units: str\n",
    ") -> str:\n",
    "    \"\"\"\n",
    "    Download RTOFS surface nowcast and forecast from ERDDAP\n",
    "\n",
    "    :param min_lon: lower value of longitude for AOI bounding box\n",
    "    :param max_lon: upper value of longitude for AOI bounding box\n",
    "    :param min_lat: lower value of latitude for AOI bounding box\n",
    "    :param max_lat: upper value of latitude for AOI bounding box\n",
    "    :param min_date: current date (tuple with year, month, day)\n",
    "    :param max_date: last day of forecast (tuple with year, month, day)\n",
    "    :param output_folder: name of folder where downloaded netCDF file is stored\n",
    "    :param use_si_units: keep original SI units?\n",
    "    :return: path to new netCDF file created in device that holds the data\n",
    "    \"\"\"\n",
    "\n",
    "    # Creating URL\n",
    "    rtofs2d = {\n",
    "        \"dataset_id\": \"ncepRtofsG2DFore3hrlyProg_LonPM180\",\n",
    "        \"environmental_variable\": [\"sst\", \"sss\", \"u_velocity\", \"v_velocity\"]\n",
    "    }\n",
    "    #if lon < 74.16:\n",
    "    #    lon += 360\n",
    "    min_time = convert_time_tuple_to_str(min_date) + 'T00:00:00Z'\n",
    "    max_time = convert_time_tuple_to_str(max_date) + 'T23:59:59Z'\n",
    "    head = 'https://coastwatch.pfeg.noaa.gov/erddap/griddap/'\n",
    "    body = (\n",
    "            '[(' + min_time + '):1:(' + max_time + ')]' +\n",
    "            '[(1.0):1:(1.0)]' +\n",
    "            '[(' + str(lat) + '):1:(' + str(lat) + ')]' +\n",
    "            '[(' + str(lon) + '):1:(' + str(lon) + ')]'\n",
    "    )\n",
    "    tail = ','.join([e + body for e in rtofs2d['environmental_variable']])\n",
    "    url = head + rtofs2d['dataset_id'] + '.nc?' + tail\n",
    "\n",
    "    # Fetching file\n",
    "    #print(url)\n",
    "    r = requests.get(url=url, allow_redirects=True)\n",
    "\n",
    "    # Storing file\n",
    "    out_file = output_folder + 'rtofs2d' + min_time +'.nc'\n",
    "    tmp_file = output_folder + 'tmp.nc'\n",
    "    open(tmp_file, 'wb').write(r.content)\n",
    "    try:\n",
    "        ds = xr.open_dataset(tmp_file)\n",
    "    except Exception:\n",
    "        print('RTOFS not available')\n",
    "    else:\n",
    "        if use_si_units == 'F':\n",
    "            ds['sst'] = ((ds['sst'] * 9/5) + 32).assign_attrs({'units': 'F'})\n",
    "            ds['u_velocity'] = (ds['u_velocity'] * 1.94384).assign_attrs({'units': 'knots'})\n",
    "            ds['v_velocity'] = (ds['v_velocity'] * 1.94384).assign_attrs({'units': 'knots'})\n",
    "        ds.to_netcdf(out_file)\n",
    "    os.remove(tmp_file)\n",
    "\n",
    "    return out_file\n",
    "\n",
    "\n",
    "def extract_data_from_rtofs_nc(lon: float, lat: float, out_file: str, ocean_var: str) -> pd.DataFrame:\n",
    "    \"\"\"\n",
    "    Read netCDF file from disk and extract data from one ocean variable\n",
    "    :param lon: longitude of desired point\n",
    "    :param lat: latitude of desired point\n",
    "    :param nc_folder: location of 'rtofs2d.nc' file\n",
    "    :param ocean_var: one of 'sst' (sea surface temperature),\n",
    "                             'sss' (sea surface salinity),\n",
    "                             'u_velocity' (surface zonal current speed),\n",
    "                             'v_velocity' (surface meridional current speed)\n",
    "    \"\"\"\n",
    "    if not ocean_var in ['sst', 'sss', 'u_velocity', 'v_velocity']:\n",
    "        raise Exception('Variable not in file')\n",
    "    b = xr.open_dataset(out_file)\n",
    "    #if lon < 74.16:\n",
    "    #    lon += 360\n",
    "    lons = np.array(b['longitude'])\n",
    "    lats = np.array(b['latitude'])\n",
    "    lon_dists = list(np.abs(lons - lon))\n",
    "    lat_dists = list(np.abs(lats - lat))\n",
    "    idx_lon = lon_dists.index(min(lon_dists))\n",
    "    idx_lat = lat_dists.index(min(lat_dists))\n",
    "    nearest_lon = lons[idx_lon]\n",
    "    nearest_lat = lats[idx_lat]\n",
    "    if nearest_lon > 180:\n",
    "        nearest_lon -= 360\n",
    "    print('Data for (' + str(nearest_lon) + '; ' + str(nearest_lat) + ')')\n",
    "    df = pd.DataFrame({'time': np.array(b['time']),\n",
    "                       'lead_time': np.array(b['time'] - b['time'][0]),\n",
    "                       ocean_var: np.array([x[0][idx_lat, idx_lon] for x in b[ocean_var]])})\n",
    "    return df\n",
    "\n"
   ],
   "metadata": {
    "collapsed": false,
    "pycharm": {
     "name": "#%%\n"
    }
   }
  },
  {
   "cell_type": "code",
   "execution_count": 6,
   "outputs": [],
   "source": [
    "#downloading functions for ceNCOOS data\n",
    "\n",
    "def get_cencoos_historical(\n",
    "        lon: float,\n",
    "        lat: float,\n",
    "        min_date: Tuple[int, int, int],\n",
    "        max_date: Tuple[int, int, int],\n",
    "        output_folder: str\n",
    ") -> str:\n",
    "    \"\"\"\n",
    "    Retrieve sea surface nowcast and forecast from 3km CeNCOOS (SST, SSS, u, v)\n",
    "    :param lon: longitude of interest\n",
    "    :param lat: latitude of interest\n",
    "    :param min_date: current date (tuple with year, month, day)\n",
    "    :param max_date: last day of forecast (tuple with year, month, day)\n",
    "    :param output_folder: name of folder where downloaded netCDF file is stored\n",
    "    :return: path to new netCDF file created in device that holds the data\n",
    "    \"\"\"\n",
    "    min_time = convert_str_to_date(convert_time_tuple_to_str(min_date) + 'T00:00:00')\n",
    "    max_time = convert_str_to_date(convert_time_tuple_to_str(max_date) + 'T23:59:59')\n",
    "    print('Connecting to CeNCOOS')\n",
    "    try:\n",
    "        full_ds = xr.open_dataset('http://thredds.cencoos.org/thredds/dodsC/CENCOOS_CA_ROMS_DAS.nc')\n",
    "    except Exception as e:\n",
    "        output_file = 'Could not connect!'\n",
    "    else:\n",
    "        ti = full_ds.coords[\"time\"]\n",
    "        if ti[-1].data < min_time:  # CeNCOOS is not always up to date :-(\n",
    "            output_file = 'Last timestamp on CeNCOOS less than min_time'\n",
    "        else:\n",
    "            print('Fetching data chunk')\n",
    "            chunk = full_ds.loc[dict(depth=0,\n",
    "                                     lat=slice(lat - 0.015, lat + 0.015),\n",
    "                                     lon=slice(np.mod(lon - 0.015, 360), np.mod(lon + 0.015, 360)),\n",
    "                                     time=(ti >= min_time) & (ti <= max_time))]\n",
    "            output_file = output_folder + 'cencoos.nc'\n",
    "            chunk = (\n",
    "                chunk\n",
    "                    .load()\n",
    "                    .rename({'temp': 'sst', 'salt': 'sss'})\n",
    "                    .assign_coords(lon=(((chunk.lon + 180) % 360) - 180))\n",
    "             )\n",
    "            print('Storing to disk')\n",
    "            chunk.to_netcdf(output_file)\n",
    "\n",
    "    return output_file\n",
    "\n"
   ],
   "metadata": {
    "collapsed": false,
    "pycharm": {
     "name": "#%%\n"
    }
   }
  },
  {
   "cell_type": "code",
   "execution_count": 7,
   "outputs": [],
   "source": [
    "#fucntions for observed data extraction\n",
    "\n",
    "def date2str(month,day,year):\n",
    "    return str(month)+ str(day)+str(year)\n",
    "\n",
    "def url_edit(min_date,max_date):\n",
    "\n",
    "    url = \"http://www3.mbari.org/lobo/cgi-bin/GetLOBOData.exe?\\\n",
    "    timeunit=SPECIFY&min_date=\"+ min_date +\"&max_date=\\\n",
    "    \"+ max_date +\"&dataquality=GQ &station=M1SURF.TXT&x=day&y\\\n",
    "    =salinity&autoscale=On&xmin=&xmax=&ymin=&ymax=&ystack=On&\\\n",
    "    data_format=Text&submit=SEND\"\n",
    "\n",
    "    return url\n",
    "\n",
    "def add_zero(number):\n",
    "    if 1 <= number <= 9:\n",
    "        return \"0\" + str(number)\n",
    "    else:\n",
    "        return str(number)"
   ],
   "metadata": {
    "collapsed": false,
    "pycharm": {
     "name": "#%%\n"
    }
   }
  },
  {
   "cell_type": "code",
   "execution_count": 8,
   "outputs": [
    {
     "name": "stdout",
     "output_type": "stream",
     "text": [
      "RTOFS not available\n"
     ]
    }
   ],
   "source": [
    "folder = '/Users/amygizel/Documents/Seadog Internship/Model_Analysis/data/RTOFS_MB/' #specify desired folder to save\n",
    "\n",
    "out_file=get_rtofs2d(lon=-122.03,\n",
    "            lat=36.75,\n",
    "            min_date = (min_date_RTOFS[0],min_date_RTOFS[1],min_date_RTOFS[2]),\n",
    "            max_date = (max_date_RTOFS[0],max_date_RTOFS[1],max_date_RTOFS[2]),\n",
    "            output_folder= folder,\n",
    "            use_si_units='T')"
   ],
   "metadata": {
    "collapsed": false,
    "pycharm": {
     "name": "#%%\n"
    }
   }
  },
  {
   "cell_type": "code",
   "execution_count": 9,
   "outputs": [
    {
     "name": "stdout",
     "output_type": "stream",
     "text": [
      "rtofs2d2021-08-16T00:00:00Z.nc\n",
      "rtofs2d2021-11-03T00:00:00Z.nc\n",
      "rtofs2d2021-11-04T00:00:00Z.nc\n",
      "rtofs2d2021-11-11T00:00:00Z.nc\n",
      "rtofs2d2021-09-09T00:00:00Z.nc\n",
      "rtofs2d2021-08-27T00:00:00Z.nc\n",
      "rtofs2d2021-08-20T00:00:00Z.nc\n",
      "rtofs2d2021-10-09T00:00:00Z.nc\n",
      "rtofs2d2021-11-10T00:00:00Z.nc\n",
      "rtofs2d2021-11-05T00:00:00Z.nc\n",
      "rtofs2d2021-11-02T00:00:00Z.nc\n",
      "rtofs2d2021-08-21T00:00:00Z.nc\n",
      "rtofs2d2021-10-08T00:00:00Z.nc\n",
      "rtofs2d2021-08-26T00:00:00Z.nc\n",
      "rtofs2d2021-09-08T00:00:00Z.nc\n",
      "rtofs2d2021-10-17T00:00:00Z.nc\n",
      "rtofs2d2021-09-02T00:00:00Z.nc\n",
      "rtofs2d2021-09-05T00:00:00Z.nc\n",
      "rtofs2d2021-10-05T00:00:00Z.nc\n",
      "rtofs2d2021-10-02T00:00:00Z.nc\n",
      "rtofs2d2021-09-10T00:00:00Z.nc\n",
      "rtofs2d2021-09-17T00:00:00Z.nc\n",
      "rtofs2d2021-11-08T00:00:00Z.nc\n",
      "rtofs2d2021-09-21T00:00:00Z.nc\n",
      "rtofs2d2021-10-26T00:00:00Z.nc\n",
      "rtofs2d2021-10-21T00:00:00Z.nc\n",
      "rtofs2d2021-10-03T00:00:00Z.nc\n",
      "rtofs2d2021-10-04T00:00:00Z.nc\n",
      "rtofs2d2021-10-11T00:00:00Z.nc\n",
      "rtofs2d2021-10-16T00:00:00Z.nc\n",
      "rtofs2d2021-09-04T00:00:00Z.nc\n",
      "rtofs2d2021-09-03T00:00:00Z.nc\n",
      "rtofs2d2021-09-27T00:00:00Z.nc\n",
      "rtofs2d2021-09-20T00:00:00Z.nc\n",
      "rtofs2d2021-09-14T00:00:00Z.nc\n",
      "rtofs2d2021-10-06T00:00:00Z.nc\n",
      "rtofs2d2021-10-01T00:00:00Z.nc\n",
      "rtofs2d2021-08-28T00:00:00Z.nc\n",
      "rtofs2d2021-09-06T00:00:00Z.nc\n",
      "rtofs2d2021-10-14T00:00:00Z.nc\n",
      "rtofs2d2021-10-13T00:00:00Z.nc\n",
      "rtofs2d2021-09-30T00:00:00Z.nc\n",
      "rtofs2d2021-10-25T00:00:00Z.nc\n",
      "rtofs2d2021-10-22T00:00:00Z.nc\n",
      "rtofs2d2021-08-19T00:00:00Z.nc\n",
      "rtofs2d2021-10-30T00:00:00Z.nc\n",
      "rtofs2d2021-09-07T00:00:00Z.nc\n",
      "rtofs2d2021-10-12T00:00:00Z.nc\n",
      "rtofs2d2021-10-15T00:00:00Z.nc\n",
      "rtofs2d2021-08-29T00:00:00Z.nc\n",
      "rtofs2d2021-09-24T00:00:00Z.nc\n",
      "rtofs2d2021-08-18T00:00:00Z.nc\n",
      "rtofs2d2021-10-31T00:00:00Z.nc\n",
      "rtofs2d2021-10-23T00:00:00Z.nc\n",
      "rtofs2d2021-10-24T00:00:00Z.nc\n",
      "rtofs2d2021-11-12T00:00:00Z.nc\n",
      "rtofs2d2021-10-29T00:00:00Z.nc\n",
      "rtofs2d2021-09-29T00:00:00Z.nc\n",
      "rtofs2d2021-11-07T00:00:00Z.nc\n",
      "rtofs2d2021-08-15T00:00:00Z.nc\n",
      "rtofs2d2021-08-12T00:00:00Z.nc\n",
      "rtofs2d2021-09-18T00:00:00Z.nc\n",
      "rtofs2d2021-08-24T00:00:00Z.nc\n",
      "rtofs2d2021-08-23T00:00:00Z.nc\n",
      "rtofs2d2021-10-18T00:00:00Z.nc\n",
      "rtofs2d2021-08-31T00:00:00Z.nc\n",
      "rtofs2d2021-11-06T00:00:00Z.nc\n",
      "rtofs2d2021-11-01T00:00:00Z.nc\n",
      "rtofs2d2021-08-13T00:00:00Z.nc\n",
      "rtofs2d2021-08-14T00:00:00Z.nc\n",
      "rtofs2d2021-11-13T00:00:00Z.nc\n",
      "rtofs2d2021-10-28T00:00:00Z.nc\n",
      "rtofs2d2021-10-19T00:00:00Z.nc\n",
      "rtofs2d2021-08-30T00:00:00Z.nc\n",
      "rtofs2d2021-09-19T00:00:00Z.nc\n",
      "rtofs2d2021-08-22T00:00:00Z.nc\n",
      "rtofs2d2021-08-25T00:00:00Z.nc\n",
      "Data for (-122.01321999999999; 36.74493)\n",
      "Data for (-122.01321999999999; 36.74493)\n",
      "Data for (-122.01321999999999; 36.74493)\n",
      "Data for (-122.01321999999999; 36.74493)\n",
      "Data for (-122.01321999999999; 36.74493)\n",
      "Data for (-122.01321999999999; 36.74493)\n",
      "Data for (-122.01321999999999; 36.74493)\n",
      "Data for (-122.01321999999999; 36.74493)\n",
      "Data for (-122.01321999999999; 36.74493)\n",
      "Data for (-122.01321999999999; 36.74493)\n",
      "Data for (-122.01321999999999; 36.74493)\n",
      "Data for (-122.01321999999999; 36.74493)\n",
      "Data for (-122.01321999999999; 36.74493)\n",
      "Data for (-122.01321999999999; 36.74493)\n",
      "Data for (-122.01321999999999; 36.74493)\n",
      "Data for (-122.01321999999999; 36.74493)\n",
      "Data for (-122.01321999999999; 36.74493)\n",
      "Data for (-122.01321999999999; 36.74493)\n",
      "Data for (-122.01321999999999; 36.74493)\n",
      "Data for (-122.01321999999999; 36.74493)\n",
      "Data for (-122.01321999999999; 36.74493)\n",
      "Data for (-122.01321999999999; 36.74493)\n",
      "Data for (-122.01321999999999; 36.74493)\n",
      "Data for (-122.01321999999999; 36.74493)\n",
      "Data for (-122.01321999999999; 36.74493)\n",
      "Data for (-122.01321999999999; 36.74493)\n",
      "Data for (-122.01321999999999; 36.74493)\n",
      "Data for (-122.01321999999999; 36.74493)\n",
      "Data for (-122.01321999999999; 36.74493)\n",
      "Data for (-122.01321999999999; 36.74493)\n",
      "Data for (-122.01321999999999; 36.74493)\n",
      "Data for (-122.01321999999999; 36.74493)\n",
      "Data for (-122.01321999999999; 36.74493)\n",
      "Data for (-122.01321999999999; 36.74493)\n",
      "Data for (-122.01321999999999; 36.74493)\n",
      "Data for (-122.01321999999999; 36.74493)\n",
      "Data for (-122.01321999999999; 36.74493)\n",
      "Data for (-122.01321999999999; 36.74493)\n",
      "Data for (-122.01321999999999; 36.74493)\n",
      "Data for (-122.01321999999999; 36.74493)\n",
      "Data for (-122.01321999999999; 36.74493)\n",
      "Data for (-122.01321999999999; 36.74493)\n",
      "Data for (-122.01321999999999; 36.74493)\n",
      "Data for (-122.01321999999999; 36.74493)\n",
      "Data for (-122.01321999999999; 36.74493)\n",
      "Data for (-122.01321999999999; 36.74493)\n",
      "Data for (-122.01321999999999; 36.74493)\n",
      "Data for (-122.01321999999999; 36.74493)\n",
      "Data for (-122.01321999999999; 36.74493)\n",
      "Data for (-122.01321999999999; 36.74493)\n",
      "Data for (-122.01321999999999; 36.74493)\n",
      "Data for (-122.01321999999999; 36.74493)\n",
      "Data for (-122.01321999999999; 36.74493)\n",
      "Data for (-122.01321999999999; 36.74493)\n",
      "Data for (-122.01321999999999; 36.74493)\n",
      "Data for (-122.01321999999999; 36.74493)\n",
      "Data for (-122.01321999999999; 36.74493)\n",
      "Data for (-122.01321999999999; 36.74493)\n",
      "Data for (-122.01321999999999; 36.74493)\n",
      "Data for (-122.01321999999999; 36.74493)\n",
      "Data for (-122.01321999999999; 36.74493)\n",
      "Data for (-122.01321999999999; 36.74493)\n",
      "Data for (-122.01321999999999; 36.74493)\n",
      "Data for (-122.01321999999999; 36.74493)\n",
      "Data for (-122.01321999999999; 36.74493)\n",
      "Data for (-122.01321999999999; 36.74493)\n",
      "Data for (-122.01321999999999; 36.74493)\n",
      "Data for (-122.01321999999999; 36.74493)\n",
      "Data for (-122.01321999999999; 36.74493)\n",
      "Data for (-122.01321999999999; 36.74493)\n",
      "Data for (-122.01321999999999; 36.74493)\n",
      "Data for (-122.01321999999999; 36.74493)\n",
      "Data for (-122.01321999999999; 36.74493)\n",
      "Data for (-122.01321999999999; 36.74493)\n",
      "Data for (-122.01321999999999; 36.74493)\n",
      "Data for (-122.01321999999999; 36.74493)\n",
      "Data for (-122.01321999999999; 36.74493)\n"
     ]
    }
   ],
   "source": [
    "\n",
    "os.chdir(folder)\n",
    "for out in glob.glob(\"rtofs*\"):\n",
    "    print(out)\n",
    "big_df = pd.concat([extract_data_from_rtofs_nc(lon=-122.03,\n",
    "                                lat=36.75,\n",
    "                                out_file=out_file,\n",
    "                                ocean_var='sss') for out_file in glob.glob(\"rtofs*\")])"
   ],
   "metadata": {
    "collapsed": false,
    "pycharm": {
     "name": "#%%\n"
    }
   }
  },
  {
   "cell_type": "code",
   "execution_count": 10,
   "outputs": [
    {
     "data": {
      "text/plain": "    day  month      RTOFS\n0    14      8  33.529952\n1    15      8  33.619848\n2    16      8  33.755164\n3    17      8  33.749753\n4    19      8  33.708435\n..  ...    ...        ...\n70    9     11  33.408362\n71   11     11  33.396438\n72   12     11  33.393085\n73   13     11  33.366028\n74   14     11  33.430765\n\n[75 rows x 3 columns]",
      "text/html": "<div>\n<style scoped>\n    .dataframe tbody tr th:only-of-type {\n        vertical-align: middle;\n    }\n\n    .dataframe tbody tr th {\n        vertical-align: top;\n    }\n\n    .dataframe thead th {\n        text-align: right;\n    }\n</style>\n<table border=\"1\" class=\"dataframe\">\n  <thead>\n    <tr style=\"text-align: right;\">\n      <th></th>\n      <th>day</th>\n      <th>month</th>\n      <th>RTOFS</th>\n    </tr>\n  </thead>\n  <tbody>\n    <tr>\n      <th>0</th>\n      <td>14</td>\n      <td>8</td>\n      <td>33.529952</td>\n    </tr>\n    <tr>\n      <th>1</th>\n      <td>15</td>\n      <td>8</td>\n      <td>33.619848</td>\n    </tr>\n    <tr>\n      <th>2</th>\n      <td>16</td>\n      <td>8</td>\n      <td>33.755164</td>\n    </tr>\n    <tr>\n      <th>3</th>\n      <td>17</td>\n      <td>8</td>\n      <td>33.749753</td>\n    </tr>\n    <tr>\n      <th>4</th>\n      <td>19</td>\n      <td>8</td>\n      <td>33.708435</td>\n    </tr>\n    <tr>\n      <th>...</th>\n      <td>...</td>\n      <td>...</td>\n      <td>...</td>\n    </tr>\n    <tr>\n      <th>70</th>\n      <td>9</td>\n      <td>11</td>\n      <td>33.408362</td>\n    </tr>\n    <tr>\n      <th>71</th>\n      <td>11</td>\n      <td>11</td>\n      <td>33.396438</td>\n    </tr>\n    <tr>\n      <th>72</th>\n      <td>12</td>\n      <td>11</td>\n      <td>33.393085</td>\n    </tr>\n    <tr>\n      <th>73</th>\n      <td>13</td>\n      <td>11</td>\n      <td>33.366028</td>\n    </tr>\n    <tr>\n      <th>74</th>\n      <td>14</td>\n      <td>11</td>\n      <td>33.430765</td>\n    </tr>\n  </tbody>\n</table>\n<p>75 rows × 3 columns</p>\n</div>"
     },
     "execution_count": 10,
     "metadata": {},
     "output_type": "execute_result"
    }
   ],
   "source": [
    "#RTOFS extraction and group by mean of day, month and lead day\n",
    "\n",
    "big_df['lead'] = big_df['lead_time'].astype(str).str[-18:-10]\n",
    "\n",
    "big_df['month'] = [int(x) for x in big_df['time'].astype(str).str[-14:-12]]\n",
    "\n",
    "big_df['day'] = [int(x) for x in big_df['time'].astype(str).str[-11:-8]]\n",
    "\n",
    "big_df=big_df.groupby(by = [\"day\",\"month\",\"lead\"]).mean()\n",
    "\n",
    "big_df.columns = [' '.join(col) for col in big_df.columns]\n",
    "\n",
    "big_df= big_df.reset_index(drop = False)\n",
    "\n",
    "big_df= big_df.dropna(subset = [\"s s s\"])\n",
    "\n",
    "big_df= big_df.rename(columns={\"s s s\": \"RTOFS\"})\n",
    "\n",
    "big_df = big_df[big_df.lead == str(LeadDay)+\" day\"].sort_values(['day','month'])\n",
    "\n",
    "big_df= big_df.drop(['lead'], axis=1).reset_index(drop = True)\n",
    "\n",
    "big_df = big_df.dropna(subset = [\"RTOFS\"])\n",
    "\n",
    "big_df = big_df.sort_values(['month','day']).reset_index(drop = True)\n",
    "\n",
    "big_df.head(5)\n",
    "\n",
    "big_df"
   ],
   "metadata": {
    "collapsed": false,
    "pycharm": {
     "name": "#%%\n"
    }
   }
  },
  {
   "cell_type": "code",
   "execution_count": 11,
   "outputs": [
    {
     "name": "stdout",
     "output_type": "stream",
     "text": [
      "Connecting to CeNCOOS\n",
      "Fetching data chunk\n",
      "Storing to disk\n"
     ]
    },
    {
     "data": {
      "text/plain": "'/Users/amygizel/Documents/Seadog Internship/Model_Analysis/data/montereybaycencoos.nc'"
     },
     "execution_count": 11,
     "metadata": {},
     "output_type": "execute_result"
    }
   ],
   "source": [
    "#folder2 = '/Users/amygizel/Desktop/montereybay' #specify desired folder to save\n",
    "\n",
    "folder2 = '/Users/amygizel/Documents/Seadog Internship/Model_Analysis/data/montereybay'  #specify desired folder to save\n",
    "\n",
    "get_cencoos_historical(lon=-122.03,\n",
    "                       lat=36.75,\n",
    "                       min_date=(min_date_CeNCOOS[0],min_date_CeNCOOS[1], min_date_CeNCOOS[2]), #initial nowcast date desired\n",
    "                       max_date=(max_date_CeNCOOS[0],max_date_CeNCOOS[1], max_date_CeNCOOS[2]), #tomorrows date\n",
    "                       output_folder= folder2)"
   ],
   "metadata": {
    "collapsed": false,
    "pycharm": {
     "name": "#%%\n"
    }
   }
  },
  {
   "cell_type": "code",
   "execution_count": 12,
   "outputs": [
    {
     "data": {
      "text/plain": "     day  month    CeNCOOS\n0      1      8  33.699122\n1      2      8  33.709628\n2      3      8  33.743337\n3      4      8  33.721498\n4      5      8  33.687130\n..   ...    ...        ...\n132   11     12  33.271346\n133   12     12  33.339975\n134   13     12  33.281669\n135   14     12  33.279807\n136   15     12  33.268139\n\n[137 rows x 3 columns]",
      "text/html": "<div>\n<style scoped>\n    .dataframe tbody tr th:only-of-type {\n        vertical-align: middle;\n    }\n\n    .dataframe tbody tr th {\n        vertical-align: top;\n    }\n\n    .dataframe thead th {\n        text-align: right;\n    }\n</style>\n<table border=\"1\" class=\"dataframe\">\n  <thead>\n    <tr style=\"text-align: right;\">\n      <th></th>\n      <th>day</th>\n      <th>month</th>\n      <th>CeNCOOS</th>\n    </tr>\n  </thead>\n  <tbody>\n    <tr>\n      <th>0</th>\n      <td>1</td>\n      <td>8</td>\n      <td>33.699122</td>\n    </tr>\n    <tr>\n      <th>1</th>\n      <td>2</td>\n      <td>8</td>\n      <td>33.709628</td>\n    </tr>\n    <tr>\n      <th>2</th>\n      <td>3</td>\n      <td>8</td>\n      <td>33.743337</td>\n    </tr>\n    <tr>\n      <th>3</th>\n      <td>4</td>\n      <td>8</td>\n      <td>33.721498</td>\n    </tr>\n    <tr>\n      <th>4</th>\n      <td>5</td>\n      <td>8</td>\n      <td>33.687130</td>\n    </tr>\n    <tr>\n      <th>...</th>\n      <td>...</td>\n      <td>...</td>\n      <td>...</td>\n    </tr>\n    <tr>\n      <th>132</th>\n      <td>11</td>\n      <td>12</td>\n      <td>33.271346</td>\n    </tr>\n    <tr>\n      <th>133</th>\n      <td>12</td>\n      <td>12</td>\n      <td>33.339975</td>\n    </tr>\n    <tr>\n      <th>134</th>\n      <td>13</td>\n      <td>12</td>\n      <td>33.281669</td>\n    </tr>\n    <tr>\n      <th>135</th>\n      <td>14</td>\n      <td>12</td>\n      <td>33.279807</td>\n    </tr>\n    <tr>\n      <th>136</th>\n      <td>15</td>\n      <td>12</td>\n      <td>33.268139</td>\n    </tr>\n  </tbody>\n</table>\n<p>137 rows × 3 columns</p>\n</div>"
     },
     "execution_count": 12,
     "metadata": {},
     "output_type": "execute_result"
    }
   ],
   "source": [
    "#CeNCOOS nowcast extraction and group by mean of day and month\n",
    "\n",
    "df = extract_data_from_nc(nc_folder=folder2, ocean_var='sss')\n",
    "\n",
    "df['month'] = [int(x) for x in df['time'].astype(str).str[-14:-12]]\n",
    "\n",
    "df['day'] = [int(x) for x in df['time'].astype(str).str[-11:-8]]\n",
    "\n",
    "df=df.groupby(by = [\"day\",\"month\"]).mean()\n",
    "\n",
    "df.columns = [' '.join(col) for col in df.columns]\n",
    "\n",
    "df= df.reset_index(drop = False)\n",
    "\n",
    "df= df.dropna(subset = [\"s s s\"])\n",
    "\n",
    "df= df.rename(columns={\"s s s\": \"CeNCOOS\"})\n",
    "\n",
    "df = df.sort_values(['month','day']).reset_index(drop = True)\n",
    "\n",
    "df.head(5)\n",
    "df"
   ],
   "metadata": {
    "collapsed": false,
    "pycharm": {
     "name": "#%%\n"
    }
   }
  },
  {
   "cell_type": "code",
   "execution_count": 13,
   "outputs": [],
   "source": [
    "#adding observed data\n",
    "\n",
    "url = url_edit(date2str(add_zero(min_date_Observed[1]),add_zero(min_date_Observed[2]),min_date_Observed[0]),date2str(add_zero(max_date_Observed[1]),add_zero(max_date_Observed[2]),max_date_Observed[0]))\n",
    "\n",
    "url = url.replace(\" \",\"\")\n",
    "\n",
    "r = requests.get(url=url, allow_redirects=True)"
   ],
   "metadata": {
    "collapsed": false,
    "pycharm": {
     "name": "#%%\n"
    }
   }
  },
  {
   "cell_type": "code",
   "execution_count": 14,
   "outputs": [
    {
     "data": {
      "text/plain": "149036"
     },
     "execution_count": 14,
     "metadata": {},
     "output_type": "execute_result"
    }
   ],
   "source": [
    "#folder3 = '/Users/amygizel/Desktop/Seadog Items/' #specify desired folder to save\n",
    "\n",
    "folder3 = '/Users/amygizel/Documents/Seadog Internship/Model_Analysis/data/' #specify desired folder to save\n",
    "\n",
    "output_folder = folder3\n",
    "\n",
    "out_file = output_folder + 'obs_salinity'  +'.csv'\n",
    "\n",
    "open(out_file, 'wb').write(r.content)"
   ],
   "metadata": {
    "collapsed": false,
    "pycharm": {
     "name": "#%%\n"
    }
   }
  },
  {
   "cell_type": "code",
   "execution_count": 15,
   "outputs": [
    {
     "data": {
      "text/plain": "     day  month   Observed\n0      1      8  33.779917\n1      2      8  33.774280\n2      3      8  33.750750\n3      4      8  33.742880\n4      5      8  33.766542\n..   ...    ...        ...\n132   11     12  33.205920\n133   12     12  33.252417\n134   13     12  33.281917\n135   14     12  33.243560\n136   15     12  33.252000\n\n[137 rows x 3 columns]",
      "text/html": "<div>\n<style scoped>\n    .dataframe tbody tr th:only-of-type {\n        vertical-align: middle;\n    }\n\n    .dataframe tbody tr th {\n        vertical-align: top;\n    }\n\n    .dataframe thead th {\n        text-align: right;\n    }\n</style>\n<table border=\"1\" class=\"dataframe\">\n  <thead>\n    <tr style=\"text-align: right;\">\n      <th></th>\n      <th>day</th>\n      <th>month</th>\n      <th>Observed</th>\n    </tr>\n  </thead>\n  <tbody>\n    <tr>\n      <th>0</th>\n      <td>1</td>\n      <td>8</td>\n      <td>33.779917</td>\n    </tr>\n    <tr>\n      <th>1</th>\n      <td>2</td>\n      <td>8</td>\n      <td>33.774280</td>\n    </tr>\n    <tr>\n      <th>2</th>\n      <td>3</td>\n      <td>8</td>\n      <td>33.750750</td>\n    </tr>\n    <tr>\n      <th>3</th>\n      <td>4</td>\n      <td>8</td>\n      <td>33.742880</td>\n    </tr>\n    <tr>\n      <th>4</th>\n      <td>5</td>\n      <td>8</td>\n      <td>33.766542</td>\n    </tr>\n    <tr>\n      <th>...</th>\n      <td>...</td>\n      <td>...</td>\n      <td>...</td>\n    </tr>\n    <tr>\n      <th>132</th>\n      <td>11</td>\n      <td>12</td>\n      <td>33.205920</td>\n    </tr>\n    <tr>\n      <th>133</th>\n      <td>12</td>\n      <td>12</td>\n      <td>33.252417</td>\n    </tr>\n    <tr>\n      <th>134</th>\n      <td>13</td>\n      <td>12</td>\n      <td>33.281917</td>\n    </tr>\n    <tr>\n      <th>135</th>\n      <td>14</td>\n      <td>12</td>\n      <td>33.243560</td>\n    </tr>\n    <tr>\n      <th>136</th>\n      <td>15</td>\n      <td>12</td>\n      <td>33.252000</td>\n    </tr>\n  </tbody>\n</table>\n<p>137 rows × 3 columns</p>\n</div>"
     },
     "execution_count": 15,
     "metadata": {},
     "output_type": "execute_result"
    }
   ],
   "source": [
    "#observed data extraction and group by mean of day and month\n",
    "\n",
    "obs_salinity = pd.read_csv(out_file,skiprows = 7)\n",
    "\n",
    "obs_salinity = obs_salinity.reset_index(level=None, drop=False, inplace=False, col_level=0, col_fill='')\n",
    "\n",
    "obs_salinity = obs_salinity.drop('level_1',1)\n",
    "\n",
    "obs_salinity = obs_salinity.rename(columns={\"level_0\": \"time\",\\\n",
    "                                  \"<br>\":\"Observed Salinity\"})\n",
    "\n",
    "obs_salinity = obs_salinity.dropna(subset = [\"Observed Salinity\"])\n",
    "\n",
    "obs_salinity = obs_salinity.dropna(subset = [\"time\"])\n",
    "\n",
    "for i in range(0, len(obs_salinity[\"Observed Salinity\"])):\n",
    "    obs_salinity[\"Observed Salinity\"][i] = float(str(obs_salinity[\"Observed Salinity\"][i]).replace(\"<br>\", \"\"))\n",
    "\n",
    "obs_salinity['month'] = [int(x) for x in obs_salinity['time'].astype(str).str[-18:-14]]\n",
    "\n",
    "obs_salinity['day'] = [int(x) for x in obs_salinity['time'].astype(str).str[-13:-11]]\n",
    "\n",
    "obs_salinity=obs_salinity.astype({\"Observed Salinity\":\"float\"})\n",
    "\n",
    "obs_salinity=obs_salinity.groupby(by = [\"day\",\"month\"]).mean()\n",
    "\n",
    "obs_salinity.columns = [' '.join(col) for col in obs_salinity.columns]\n",
    "\n",
    "obs_salinity= obs_salinity.reset_index(drop = False)\n",
    "\n",
    "obs_salinity= obs_salinity.dropna(subset = [\"O b s e r v e d   S a l i n i t y\"])\n",
    "\n",
    "obs_salinity= obs_salinity.rename(columns={\"O b s e r v e d   S a l i n i t y\": \"Observed\"})\n",
    "\n",
    "obs_salinity = obs_salinity.sort_values(['month','day']).reset_index(drop = True)\n",
    "\n",
    "obs_salinity.head(5)\n",
    "\n",
    "obs_salinity"
   ],
   "metadata": {
    "collapsed": false,
    "pycharm": {
     "name": "#%%\n"
    }
   }
  },
  {
   "cell_type": "code",
   "execution_count": 16,
   "outputs": [
    {
     "data": {
      "text/plain": "                   time   Salinity\n0  2009-01-01T00:00:00Z  33.467075\n1  2009-01-02T00:00:00Z  33.478756\n2  2009-01-03T00:00:00Z  33.476788\n3  2009-01-04T00:00:00Z  33.472393\n4  2009-01-05T00:00:00Z  33.549850",
      "text/html": "<div>\n<style scoped>\n    .dataframe tbody tr th:only-of-type {\n        vertical-align: middle;\n    }\n\n    .dataframe tbody tr th {\n        vertical-align: top;\n    }\n\n    .dataframe thead th {\n        text-align: right;\n    }\n</style>\n<table border=\"1\" class=\"dataframe\">\n  <thead>\n    <tr style=\"text-align: right;\">\n      <th></th>\n      <th>time</th>\n      <th>Salinity</th>\n    </tr>\n  </thead>\n  <tbody>\n    <tr>\n      <th>0</th>\n      <td>2009-01-01T00:00:00Z</td>\n      <td>33.467075</td>\n    </tr>\n    <tr>\n      <th>1</th>\n      <td>2009-01-02T00:00:00Z</td>\n      <td>33.478756</td>\n    </tr>\n    <tr>\n      <th>2</th>\n      <td>2009-01-03T00:00:00Z</td>\n      <td>33.476788</td>\n    </tr>\n    <tr>\n      <th>3</th>\n      <td>2009-01-04T00:00:00Z</td>\n      <td>33.472393</td>\n    </tr>\n    <tr>\n      <th>4</th>\n      <td>2009-01-05T00:00:00Z</td>\n      <td>33.549850</td>\n    </tr>\n  </tbody>\n</table>\n</div>"
     },
     "execution_count": 16,
     "metadata": {},
     "output_type": "execute_result"
    }
   ],
   "source": [
    "#Climatology extraction\n",
    "\n",
    "outfile = folder3 + 'Daily_Salinity_Estimates' + '.csv' #specify desired folder with climatology data\n",
    "\n",
    "daily_salinity = pd.read_csv(outfile,skiprows=1)\n",
    "\n",
    "daily_salinity = daily_salinity.drop(columns=[\"m\",\"Unnamed: 2\",\"Unnamed: 3\"])\n",
    "\n",
    "daily_salinity = daily_salinity.rename(columns={\"UTC\": \"time\",\"PSU\":\"Salinity\"})\n",
    "\n",
    "daily_salinity.head(5)"
   ],
   "metadata": {
    "collapsed": false,
    "pycharm": {
     "name": "#%%\n"
    }
   }
  },
  {
   "cell_type": "code",
   "execution_count": 17,
   "outputs": [
    {
     "data": {
      "text/plain": "     day  month  Climatology  Salinity var  Salinity count  Standard Error  \\\n0      1      1    33.443651      0.009084              10        0.030139   \n1      2      1    33.441912      0.009494               9        0.032479   \n2      3      1    33.437385      0.009138               9        0.031864   \n3      4      1    33.427898      0.009042               9        0.031696   \n4      5      1    33.416385      0.010158               9        0.033595   \n..   ...    ...          ...           ...             ...             ...   \n361   27     12    33.412418      0.010773               9        0.034598   \n362   28     12    33.413505      0.007889               9        0.029606   \n363   29     12    33.411348      0.007264               9        0.028410   \n364   30     12    33.423437      0.006025               9        0.025874   \n365   31     12    33.437882      0.009838               9        0.033062   \n\n        2 SD +     2 SD -  \n0    33.503929  33.383372  \n1    33.506870  33.376953  \n2    33.501113  33.373656  \n3    33.491290  33.364505  \n4    33.483575  33.349196  \n..         ...        ...  \n361  33.481614  33.343222  \n362  33.472717  33.354294  \n363  33.468168  33.354528  \n364  33.475186  33.371688  \n365  33.504007  33.371758  \n\n[366 rows x 8 columns]",
      "text/html": "<div>\n<style scoped>\n    .dataframe tbody tr th:only-of-type {\n        vertical-align: middle;\n    }\n\n    .dataframe tbody tr th {\n        vertical-align: top;\n    }\n\n    .dataframe thead th {\n        text-align: right;\n    }\n</style>\n<table border=\"1\" class=\"dataframe\">\n  <thead>\n    <tr style=\"text-align: right;\">\n      <th></th>\n      <th>day</th>\n      <th>month</th>\n      <th>Climatology</th>\n      <th>Salinity var</th>\n      <th>Salinity count</th>\n      <th>Standard Error</th>\n      <th>2 SD +</th>\n      <th>2 SD -</th>\n    </tr>\n  </thead>\n  <tbody>\n    <tr>\n      <th>0</th>\n      <td>1</td>\n      <td>1</td>\n      <td>33.443651</td>\n      <td>0.009084</td>\n      <td>10</td>\n      <td>0.030139</td>\n      <td>33.503929</td>\n      <td>33.383372</td>\n    </tr>\n    <tr>\n      <th>1</th>\n      <td>2</td>\n      <td>1</td>\n      <td>33.441912</td>\n      <td>0.009494</td>\n      <td>9</td>\n      <td>0.032479</td>\n      <td>33.506870</td>\n      <td>33.376953</td>\n    </tr>\n    <tr>\n      <th>2</th>\n      <td>3</td>\n      <td>1</td>\n      <td>33.437385</td>\n      <td>0.009138</td>\n      <td>9</td>\n      <td>0.031864</td>\n      <td>33.501113</td>\n      <td>33.373656</td>\n    </tr>\n    <tr>\n      <th>3</th>\n      <td>4</td>\n      <td>1</td>\n      <td>33.427898</td>\n      <td>0.009042</td>\n      <td>9</td>\n      <td>0.031696</td>\n      <td>33.491290</td>\n      <td>33.364505</td>\n    </tr>\n    <tr>\n      <th>4</th>\n      <td>5</td>\n      <td>1</td>\n      <td>33.416385</td>\n      <td>0.010158</td>\n      <td>9</td>\n      <td>0.033595</td>\n      <td>33.483575</td>\n      <td>33.349196</td>\n    </tr>\n    <tr>\n      <th>...</th>\n      <td>...</td>\n      <td>...</td>\n      <td>...</td>\n      <td>...</td>\n      <td>...</td>\n      <td>...</td>\n      <td>...</td>\n      <td>...</td>\n    </tr>\n    <tr>\n      <th>361</th>\n      <td>27</td>\n      <td>12</td>\n      <td>33.412418</td>\n      <td>0.010773</td>\n      <td>9</td>\n      <td>0.034598</td>\n      <td>33.481614</td>\n      <td>33.343222</td>\n    </tr>\n    <tr>\n      <th>362</th>\n      <td>28</td>\n      <td>12</td>\n      <td>33.413505</td>\n      <td>0.007889</td>\n      <td>9</td>\n      <td>0.029606</td>\n      <td>33.472717</td>\n      <td>33.354294</td>\n    </tr>\n    <tr>\n      <th>363</th>\n      <td>29</td>\n      <td>12</td>\n      <td>33.411348</td>\n      <td>0.007264</td>\n      <td>9</td>\n      <td>0.028410</td>\n      <td>33.468168</td>\n      <td>33.354528</td>\n    </tr>\n    <tr>\n      <th>364</th>\n      <td>30</td>\n      <td>12</td>\n      <td>33.423437</td>\n      <td>0.006025</td>\n      <td>9</td>\n      <td>0.025874</td>\n      <td>33.475186</td>\n      <td>33.371688</td>\n    </tr>\n    <tr>\n      <th>365</th>\n      <td>31</td>\n      <td>12</td>\n      <td>33.437882</td>\n      <td>0.009838</td>\n      <td>9</td>\n      <td>0.033062</td>\n      <td>33.504007</td>\n      <td>33.371758</td>\n    </tr>\n  </tbody>\n</table>\n<p>366 rows × 8 columns</p>\n</div>"
     },
     "execution_count": 17,
     "metadata": {},
     "output_type": "execute_result"
    }
   ],
   "source": [
    "#Climatology extraction and group by mean of day and month\n",
    "\n",
    "daily_salinity['month'] = [int(x) for x in daily_salinity['time'].astype(str).str[5:7]]\n",
    "\n",
    "daily_salinity['day'] = [int(x) for x in daily_salinity['time'].astype(str).str[8:10]]\n",
    "\n",
    "daily_salinity=daily_salinity.groupby(by = [\"day\",\"month\"]).agg([\"mean\", \"var\",\"count\"])#.reset_index(drop = False)\n",
    "\n",
    "daily_salinity.columns = [' '.join(col) for col in daily_salinity.columns]\n",
    "\n",
    "daily_salinity= daily_salinity.reset_index(drop = False)\n",
    "\n",
    "daily_salinity[\"Standard Error\"] = np.sqrt(daily_salinity[\"Salinity var\"]/daily_salinity[\"Salinity count\"])\n",
    "\n",
    "daily_salinity[\"2 SD +\"] = abs(2*(daily_salinity[\"Standard Error\"])+ daily_salinity[\"Salinity mean\"])\n",
    "\n",
    "daily_salinity[\"2 SD -\"] = abs(2*(daily_salinity[\"Standard Error\"])- daily_salinity[\"Salinity mean\"])\n",
    "\n",
    "daily_salinity.sort_values(['month','day']).reset_index(drop = True)\n",
    "\n",
    "daily_salinity = daily_salinity.rename(columns={\"Salinity mean\": \"Climatology\"})\n",
    "\n",
    "daily_salinity = daily_salinity.sort_values(['month','day']).reset_index(drop = True)\n",
    "\n",
    "daily_salinity.head(5)\n",
    "\n",
    "daily_salinity"
   ],
   "metadata": {
    "collapsed": false,
    "pycharm": {
     "name": "#%%\n"
    }
   }
  },
  {
   "cell_type": "code",
   "execution_count": 18,
   "outputs": [
    {
     "data": {
      "text/plain": "    day  month  Climatology  Salinity var  Salinity count  Standard Error  \\\n0    14      8    33.569776      0.036868               9        0.064004   \n1    15      8    33.571839      0.035615               9        0.062906   \n2    16      8    33.559626      0.031552               9        0.059210   \n3    17      8    33.563231      0.036382               9        0.063580   \n4    19      8    33.571937      0.037195               9        0.064286   \n..  ...    ...          ...           ...             ...             ...   \n70    9     11    33.405474      0.006066               9        0.025962   \n71   11     11    33.394472      0.004665               9        0.022768   \n72   12     11    33.383777      0.004652               9        0.022735   \n73   13     11    33.386861      0.004364               9        0.022021   \n74   14     11    33.397704      0.005427               9        0.024556   \n\n       2 SD +     2 SD -   Observed    CeNCOOS      RTOFS  \n0   33.697783  33.441769  33.756000  33.640703  33.529952  \n1   33.697651  33.446026  33.715375  33.705039  33.619848  \n2   33.678046  33.441206  33.735920  33.661183  33.755164  \n3   33.690390  33.436071  33.739250  33.749227  33.749753  \n4   33.700510  33.443364  33.724875  33.699739  33.708435  \n..        ...        ...        ...        ...        ...  \n70  33.457399  33.353549  33.360708  33.303223  33.408362  \n71  33.440008  33.348936  33.345125  33.289344  33.396438  \n72  33.429247  33.338307  33.339792  33.294222  33.393085  \n73  33.430903  33.342819  33.338083  33.244085  33.366028  \n74  33.446817  33.348591  33.321880  33.286406  33.430765  \n\n[75 rows x 11 columns]",
      "text/html": "<div>\n<style scoped>\n    .dataframe tbody tr th:only-of-type {\n        vertical-align: middle;\n    }\n\n    .dataframe tbody tr th {\n        vertical-align: top;\n    }\n\n    .dataframe thead th {\n        text-align: right;\n    }\n</style>\n<table border=\"1\" class=\"dataframe\">\n  <thead>\n    <tr style=\"text-align: right;\">\n      <th></th>\n      <th>day</th>\n      <th>month</th>\n      <th>Climatology</th>\n      <th>Salinity var</th>\n      <th>Salinity count</th>\n      <th>Standard Error</th>\n      <th>2 SD +</th>\n      <th>2 SD -</th>\n      <th>Observed</th>\n      <th>CeNCOOS</th>\n      <th>RTOFS</th>\n    </tr>\n  </thead>\n  <tbody>\n    <tr>\n      <th>0</th>\n      <td>14</td>\n      <td>8</td>\n      <td>33.569776</td>\n      <td>0.036868</td>\n      <td>9</td>\n      <td>0.064004</td>\n      <td>33.697783</td>\n      <td>33.441769</td>\n      <td>33.756000</td>\n      <td>33.640703</td>\n      <td>33.529952</td>\n    </tr>\n    <tr>\n      <th>1</th>\n      <td>15</td>\n      <td>8</td>\n      <td>33.571839</td>\n      <td>0.035615</td>\n      <td>9</td>\n      <td>0.062906</td>\n      <td>33.697651</td>\n      <td>33.446026</td>\n      <td>33.715375</td>\n      <td>33.705039</td>\n      <td>33.619848</td>\n    </tr>\n    <tr>\n      <th>2</th>\n      <td>16</td>\n      <td>8</td>\n      <td>33.559626</td>\n      <td>0.031552</td>\n      <td>9</td>\n      <td>0.059210</td>\n      <td>33.678046</td>\n      <td>33.441206</td>\n      <td>33.735920</td>\n      <td>33.661183</td>\n      <td>33.755164</td>\n    </tr>\n    <tr>\n      <th>3</th>\n      <td>17</td>\n      <td>8</td>\n      <td>33.563231</td>\n      <td>0.036382</td>\n      <td>9</td>\n      <td>0.063580</td>\n      <td>33.690390</td>\n      <td>33.436071</td>\n      <td>33.739250</td>\n      <td>33.749227</td>\n      <td>33.749753</td>\n    </tr>\n    <tr>\n      <th>4</th>\n      <td>19</td>\n      <td>8</td>\n      <td>33.571937</td>\n      <td>0.037195</td>\n      <td>9</td>\n      <td>0.064286</td>\n      <td>33.700510</td>\n      <td>33.443364</td>\n      <td>33.724875</td>\n      <td>33.699739</td>\n      <td>33.708435</td>\n    </tr>\n    <tr>\n      <th>...</th>\n      <td>...</td>\n      <td>...</td>\n      <td>...</td>\n      <td>...</td>\n      <td>...</td>\n      <td>...</td>\n      <td>...</td>\n      <td>...</td>\n      <td>...</td>\n      <td>...</td>\n      <td>...</td>\n    </tr>\n    <tr>\n      <th>70</th>\n      <td>9</td>\n      <td>11</td>\n      <td>33.405474</td>\n      <td>0.006066</td>\n      <td>9</td>\n      <td>0.025962</td>\n      <td>33.457399</td>\n      <td>33.353549</td>\n      <td>33.360708</td>\n      <td>33.303223</td>\n      <td>33.408362</td>\n    </tr>\n    <tr>\n      <th>71</th>\n      <td>11</td>\n      <td>11</td>\n      <td>33.394472</td>\n      <td>0.004665</td>\n      <td>9</td>\n      <td>0.022768</td>\n      <td>33.440008</td>\n      <td>33.348936</td>\n      <td>33.345125</td>\n      <td>33.289344</td>\n      <td>33.396438</td>\n    </tr>\n    <tr>\n      <th>72</th>\n      <td>12</td>\n      <td>11</td>\n      <td>33.383777</td>\n      <td>0.004652</td>\n      <td>9</td>\n      <td>0.022735</td>\n      <td>33.429247</td>\n      <td>33.338307</td>\n      <td>33.339792</td>\n      <td>33.294222</td>\n      <td>33.393085</td>\n    </tr>\n    <tr>\n      <th>73</th>\n      <td>13</td>\n      <td>11</td>\n      <td>33.386861</td>\n      <td>0.004364</td>\n      <td>9</td>\n      <td>0.022021</td>\n      <td>33.430903</td>\n      <td>33.342819</td>\n      <td>33.338083</td>\n      <td>33.244085</td>\n      <td>33.366028</td>\n    </tr>\n    <tr>\n      <th>74</th>\n      <td>14</td>\n      <td>11</td>\n      <td>33.397704</td>\n      <td>0.005427</td>\n      <td>9</td>\n      <td>0.024556</td>\n      <td>33.446817</td>\n      <td>33.348591</td>\n      <td>33.321880</td>\n      <td>33.286406</td>\n      <td>33.430765</td>\n    </tr>\n  </tbody>\n</table>\n<p>75 rows × 11 columns</p>\n</div>"
     },
     "execution_count": 18,
     "metadata": {},
     "output_type": "execute_result"
    }
   ],
   "source": [
    "#merge all dataframes\n",
    "\n",
    "salinity = pd.merge(left=daily_salinity, right=obs_salinity[['Observed','day','month']], on=['day','month'], how='inner')\n",
    "\n",
    "salinity = pd.merge(left=salinity, right=df[['CeNCOOS','day','month']], on=['day','month'], how='inner')\n",
    "\n",
    "salinity = pd.merge(left=salinity, right=big_df[['RTOFS','day','month']], on=['day','month'], how='inner')\n",
    "\n",
    "salinity"
   ],
   "metadata": {
    "collapsed": false,
    "pycharm": {
     "name": "#%%\n"
    }
   }
  },
  {
   "cell_type": "code",
   "execution_count": 19,
   "outputs": [
    {
     "data": {
      "text/plain": "<Figure size 432x288 with 1 Axes>",
      "image/png": "[encoded data removed]"
     },
     "metadata": {
      "needs_background": "light"
     },
     "output_type": "display_data"
    }
   ],
   "source": [
    "#plotting 2 Standard deviations from the climatology, RTOFS, CeNCOOS and observed data\n",
    "\n",
    "plt.plot(salinity.index, salinity[\"2 SD +\"],'r',color = 'tab:gray')\n",
    "plt.plot(salinity.index, salinity[\"2 SD -\"],'r',color = 'tab:gray')\n",
    "plt.plot(salinity.index, salinity[\"CeNCOOS\"],'g.',label = \"CeNCOOS\")\n",
    "plt.plot(salinity.index, salinity[\"RTOFS\"],'c.',label= \"RTOFS\")\n",
    "plt.plot(salinity.index, salinity[\"Observed\"],color=\"purple\",label= \"Observed\")\n",
    "plt.plot(salinity.index, salinity[\"Climatology\"],'r',label= \"Climatology\")\n",
    "\n",
    "plt.legend()\n",
    "plt.xticks(rotation=45)\n",
    "plt.xlabel('Day of Year')\n",
    "plt.ylabel('Salinity (PSU)')\n",
    "my_xticks =  []\n",
    "\n",
    "axis_seperation = 6\n",
    "for x in range(0,len(salinity[\"month\"])):\n",
    "    date = str(salinity[\"month\"][x])+ \"-\"+ str(salinity[\"day\"][x])\n",
    "    if x % axis_seperation == 0:\n",
    "        my_xticks.append(date)\n",
    "\n",
    "plt.xticks(salinity.index[::axis_seperation], my_xticks)\n",
    "plt.show()"
   ],
   "metadata": {
    "collapsed": false,
    "pycharm": {
     "name": "#%%\n"
    }
   }
  },
  {
   "cell_type": "code",
   "execution_count": 20,
   "outputs": [
    {
     "name": "stdout",
     "output_type": "stream",
     "text": [
      "RTOFS Count:  48\n",
      "CeNCOOS Count:  23\n"
     ]
    }
   ],
   "source": [
    "#checking to see if RTOFS and CeNCOOS is in bound of SEM Climatology\n",
    "\n",
    "r_count = in_bounds(salinity[\"RTOFS\"],salinity[\"2 SD +\"],salinity[\"2 SD -\"])\n",
    "\n",
    "c_count = in_bounds(salinity[\"CeNCOOS\"],salinity[\"2 SD +\"],salinity[\"2 SD -\"])\n",
    "\n",
    "print(\"RTOFS Count: \",r_count)\n",
    "print(\"CeNCOOS Count: \",c_count)"
   ],
   "metadata": {
    "collapsed": false,
    "pycharm": {
     "name": "#%%\n"
    }
   }
  },
  {
   "cell_type": "code",
   "execution_count": 21,
   "outputs": [
    {
     "data": {
      "text/plain": "   day  month  Climatology  Salinity var  Salinity count  Standard Error  \\\n0   14      8    33.569776      0.036868               9        0.064004   \n1   15      8    33.571839      0.035615               9        0.062906   \n2   16      8    33.559626      0.031552               9        0.059210   \n3   17      8    33.563231      0.036382               9        0.063580   \n4   19      8    33.571937      0.037195               9        0.064286   \n\n      2 SD +     2 SD -   Observed    CeNCOOS      RTOFS  CeNCOOS_Diff_Clim  \\\n0  33.697783  33.441769  33.756000  33.640703  33.529952           0.070927   \n1  33.697651  33.446026  33.715375  33.705039  33.619848           0.133200   \n2  33.678046  33.441206  33.735920  33.661183  33.755164           0.101558   \n3  33.690390  33.436071  33.739250  33.749227  33.749753           0.185996   \n4  33.700510  33.443364  33.724875  33.699739  33.708435           0.127802   \n\n   RTOFS_Diff_Clim  CeNCOOS_Diff_Obs  RTOFS_Diff_Obs  Obs_diff_Climatology  \n0         0.039824          0.115297        0.226048              0.186224  \n1         0.048009          0.010336        0.095527              0.143536  \n2         0.195538          0.074737        0.019244              0.176294  \n3         0.186522          0.009977        0.010503              0.176019  \n4         0.136498          0.025136        0.016440              0.152938  ",
      "text/html": "<div>\n<style scoped>\n    .dataframe tbody tr th:only-of-type {\n        vertical-align: middle;\n    }\n\n    .dataframe tbody tr th {\n        vertical-align: top;\n    }\n\n    .dataframe thead th {\n        text-align: right;\n    }\n</style>\n<table border=\"1\" class=\"dataframe\">\n  <thead>\n    <tr style=\"text-align: right;\">\n      <th></th>\n      <th>day</th>\n      <th>month</th>\n      <th>Climatology</th>\n      <th>Salinity var</th>\n      <th>Salinity count</th>\n      <th>Standard Error</th>\n      <th>2 SD +</th>\n      <th>2 SD -</th>\n      <th>Observed</th>\n      <th>CeNCOOS</th>\n      <th>RTOFS</th>\n      <th>CeNCOOS_Diff_Clim</th>\n      <th>RTOFS_Diff_Clim</th>\n      <th>CeNCOOS_Diff_Obs</th>\n      <th>RTOFS_Diff_Obs</th>\n      <th>Obs_diff_Climatology</th>\n    </tr>\n  </thead>\n  <tbody>\n    <tr>\n      <th>0</th>\n      <td>14</td>\n      <td>8</td>\n      <td>33.569776</td>\n      <td>0.036868</td>\n      <td>9</td>\n      <td>0.064004</td>\n      <td>33.697783</td>\n      <td>33.441769</td>\n      <td>33.756000</td>\n      <td>33.640703</td>\n      <td>33.529952</td>\n      <td>0.070927</td>\n      <td>0.039824</td>\n      <td>0.115297</td>\n      <td>0.226048</td>\n      <td>0.186224</td>\n    </tr>\n    <tr>\n      <th>1</th>\n      <td>15</td>\n      <td>8</td>\n      <td>33.571839</td>\n      <td>0.035615</td>\n      <td>9</td>\n      <td>0.062906</td>\n      <td>33.697651</td>\n      <td>33.446026</td>\n      <td>33.715375</td>\n      <td>33.705039</td>\n      <td>33.619848</td>\n      <td>0.133200</td>\n      <td>0.048009</td>\n      <td>0.010336</td>\n      <td>0.095527</td>\n      <td>0.143536</td>\n    </tr>\n    <tr>\n      <th>2</th>\n      <td>16</td>\n      <td>8</td>\n      <td>33.559626</td>\n      <td>0.031552</td>\n      <td>9</td>\n      <td>0.059210</td>\n      <td>33.678046</td>\n      <td>33.441206</td>\n      <td>33.735920</td>\n      <td>33.661183</td>\n      <td>33.755164</td>\n      <td>0.101558</td>\n      <td>0.195538</td>\n      <td>0.074737</td>\n      <td>0.019244</td>\n      <td>0.176294</td>\n    </tr>\n    <tr>\n      <th>3</th>\n      <td>17</td>\n      <td>8</td>\n      <td>33.563231</td>\n      <td>0.036382</td>\n      <td>9</td>\n      <td>0.063580</td>\n      <td>33.690390</td>\n      <td>33.436071</td>\n      <td>33.739250</td>\n      <td>33.749227</td>\n      <td>33.749753</td>\n      <td>0.185996</td>\n      <td>0.186522</td>\n      <td>0.009977</td>\n      <td>0.010503</td>\n      <td>0.176019</td>\n    </tr>\n    <tr>\n      <th>4</th>\n      <td>19</td>\n      <td>8</td>\n      <td>33.571937</td>\n      <td>0.037195</td>\n      <td>9</td>\n      <td>0.064286</td>\n      <td>33.700510</td>\n      <td>33.443364</td>\n      <td>33.724875</td>\n      <td>33.699739</td>\n      <td>33.708435</td>\n      <td>0.127802</td>\n      <td>0.136498</td>\n      <td>0.025136</td>\n      <td>0.016440</td>\n      <td>0.152938</td>\n    </tr>\n  </tbody>\n</table>\n</div>"
     },
     "execution_count": 21,
     "metadata": {},
     "output_type": "execute_result"
    }
   ],
   "source": [
    "#now calculating model and observed difference from climatology data\n",
    "\n",
    "salinity[\"CeNCOOS_Diff_Clim\"]  = abs(salinity['CeNCOOS'] - salinity['Climatology'])\n",
    "salinity[\"RTOFS_Diff_Clim\"]  = abs(salinity['RTOFS'] - salinity['Climatology'])\n",
    "\n",
    "salinity[\"CeNCOOS_Diff_Obs\"] = abs(salinity['CeNCOOS'] - salinity['Observed'])\n",
    "salinity[\"RTOFS_Diff_Obs\"]   = abs(salinity['RTOFS'] - salinity['Observed'])\n",
    "\n",
    "salinity[\"Obs_diff_Climatology\"] = abs(salinity['Observed']- salinity['Climatology'])\n",
    "\n",
    "\n",
    "salinity.head(5)\n",
    "\n"
   ],
   "metadata": {
    "collapsed": false,
    "pycharm": {
     "name": "#%%\n"
    }
   }
  },
  {
   "cell_type": "code",
   "execution_count": 22,
   "outputs": [
    {
     "data": {
      "text/plain": "   day  month  Climatology  Salinity var  Salinity count  Standard Error  \\\n0   14      8    33.569776      0.036868               9        0.064004   \n1   15      8    33.571839      0.035615               9        0.062906   \n2   16      8    33.559626      0.031552               9        0.059210   \n3   17      8    33.563231      0.036382               9        0.063580   \n4   19      8    33.571937      0.037195               9        0.064286   \n\n      2 SD +     2 SD -   Observed    CeNCOOS      RTOFS  CeNCOOS_Diff_Clim  \\\n0  33.697783  33.441769  33.756000  33.640703  33.529952           0.070927   \n1  33.697651  33.446026  33.715375  33.705039  33.619848           0.133200   \n2  33.678046  33.441206  33.735920  33.661183  33.755164           0.101558   \n3  33.690390  33.436071  33.739250  33.749227  33.749753           0.185996   \n4  33.700510  33.443364  33.724875  33.699739  33.708435           0.127802   \n\n   RTOFS_Diff_Clim  CeNCOOS_Diff_Obs  RTOFS_Diff_Obs  Obs_diff_Climatology  \\\n0         0.039824          0.115297        0.226048              0.186224   \n1         0.048009          0.010336        0.095527              0.143536   \n2         0.195538          0.074737        0.019244              0.176294   \n3         0.186522          0.009977        0.010503              0.176019   \n4         0.136498          0.025136        0.016440              0.152938   \n\n  Better Model  \n0            R  \n1            R  \n2            C  \n3            C  \n4            C  ",
      "text/html": "<div>\n<style scoped>\n    .dataframe tbody tr th:only-of-type {\n        vertical-align: middle;\n    }\n\n    .dataframe tbody tr th {\n        vertical-align: top;\n    }\n\n    .dataframe thead th {\n        text-align: right;\n    }\n</style>\n<table border=\"1\" class=\"dataframe\">\n  <thead>\n    <tr style=\"text-align: right;\">\n      <th></th>\n      <th>day</th>\n      <th>month</th>\n      <th>Climatology</th>\n      <th>Salinity var</th>\n      <th>Salinity count</th>\n      <th>Standard Error</th>\n      <th>2 SD +</th>\n      <th>2 SD -</th>\n      <th>Observed</th>\n      <th>CeNCOOS</th>\n      <th>RTOFS</th>\n      <th>CeNCOOS_Diff_Clim</th>\n      <th>RTOFS_Diff_Clim</th>\n      <th>CeNCOOS_Diff_Obs</th>\n      <th>RTOFS_Diff_Obs</th>\n      <th>Obs_diff_Climatology</th>\n      <th>Better Model</th>\n    </tr>\n  </thead>\n  <tbody>\n    <tr>\n      <th>0</th>\n      <td>14</td>\n      <td>8</td>\n      <td>33.569776</td>\n      <td>0.036868</td>\n      <td>9</td>\n      <td>0.064004</td>\n      <td>33.697783</td>\n      <td>33.441769</td>\n      <td>33.756000</td>\n      <td>33.640703</td>\n      <td>33.529952</td>\n      <td>0.070927</td>\n      <td>0.039824</td>\n      <td>0.115297</td>\n      <td>0.226048</td>\n      <td>0.186224</td>\n      <td>R</td>\n    </tr>\n    <tr>\n      <th>1</th>\n      <td>15</td>\n      <td>8</td>\n      <td>33.571839</td>\n      <td>0.035615</td>\n      <td>9</td>\n      <td>0.062906</td>\n      <td>33.697651</td>\n      <td>33.446026</td>\n      <td>33.715375</td>\n      <td>33.705039</td>\n      <td>33.619848</td>\n      <td>0.133200</td>\n      <td>0.048009</td>\n      <td>0.010336</td>\n      <td>0.095527</td>\n      <td>0.143536</td>\n      <td>R</td>\n    </tr>\n    <tr>\n      <th>2</th>\n      <td>16</td>\n      <td>8</td>\n      <td>33.559626</td>\n      <td>0.031552</td>\n      <td>9</td>\n      <td>0.059210</td>\n      <td>33.678046</td>\n      <td>33.441206</td>\n      <td>33.735920</td>\n      <td>33.661183</td>\n      <td>33.755164</td>\n      <td>0.101558</td>\n      <td>0.195538</td>\n      <td>0.074737</td>\n      <td>0.019244</td>\n      <td>0.176294</td>\n      <td>C</td>\n    </tr>\n    <tr>\n      <th>3</th>\n      <td>17</td>\n      <td>8</td>\n      <td>33.563231</td>\n      <td>0.036382</td>\n      <td>9</td>\n      <td>0.063580</td>\n      <td>33.690390</td>\n      <td>33.436071</td>\n      <td>33.739250</td>\n      <td>33.749227</td>\n      <td>33.749753</td>\n      <td>0.185996</td>\n      <td>0.186522</td>\n      <td>0.009977</td>\n      <td>0.010503</td>\n      <td>0.176019</td>\n      <td>C</td>\n    </tr>\n    <tr>\n      <th>4</th>\n      <td>19</td>\n      <td>8</td>\n      <td>33.571937</td>\n      <td>0.037195</td>\n      <td>9</td>\n      <td>0.064286</td>\n      <td>33.700510</td>\n      <td>33.443364</td>\n      <td>33.724875</td>\n      <td>33.699739</td>\n      <td>33.708435</td>\n      <td>0.127802</td>\n      <td>0.136498</td>\n      <td>0.025136</td>\n      <td>0.016440</td>\n      <td>0.152938</td>\n      <td>C</td>\n    </tr>\n  </tbody>\n</table>\n</div>"
     },
     "execution_count": 22,
     "metadata": {},
     "output_type": "execute_result"
    }
   ],
   "source": [
    "#Seeing which model has a greater difference from the Climatology Models\n",
    "\n",
    "salinity[\"Better Model\"] = pairwise_comparison(salinity['RTOFS_Diff_Clim'],'R',salinity['CeNCOOS_Diff_Clim'],'C')\n",
    "\n",
    "salinity.head(5)"
   ],
   "metadata": {
    "collapsed": false,
    "pycharm": {
     "name": "#%%\n"
    }
   }
  },
  {
   "cell_type": "code",
   "execution_count": 23,
   "outputs": [
    {
     "data": {
      "text/plain": "   day  month  Climatology  Salinity var  Salinity count  Standard Error  \\\n0   14      8    33.569776      0.036868               9        0.064004   \n1   15      8    33.571839      0.035615               9        0.062906   \n2   16      8    33.559626      0.031552               9        0.059210   \n3   17      8    33.563231      0.036382               9        0.063580   \n4   19      8    33.571937      0.037195               9        0.064286   \n\n      2 SD +     2 SD -   Observed    CeNCOOS  ...  \\\n0  33.697783  33.441769  33.756000  33.640703  ...   \n1  33.697651  33.446026  33.715375  33.705039  ...   \n2  33.678046  33.441206  33.735920  33.661183  ...   \n3  33.690390  33.436071  33.739250  33.749227  ...   \n4  33.700510  33.443364  33.724875  33.699739  ...   \n\n   RTOFS Model Below Climatology  RTOFS Model Above Climatology  \\\n0                              R                                  \n1                                                             R   \n2                                                             R   \n3                                                             R   \n4                                                             R   \n\n   CeNCOOS Model Below Climatology  CeNCOOS Model Above Climatology  \\\n0                                                                 C   \n1                                                                 C   \n2                                                                 C   \n3                                                                 C   \n4                                                                 C   \n\n   Observed Model Below Climatology  Observed Model Above Climatology  \\\n0                                                                   O   \n1                                                                   O   \n2                                                                   O   \n3                                                                   O   \n4                                                                   O   \n\n  RTOFS Model Below Observation RTOFS Model Above Observation  \\\n0                             R                                 \n1                             R                                 \n2                                                           R   \n3                                                           R   \n4                             R                                 \n\n  CeNCOOS Model Below Observation CeNCOOS Model Above Observation  \n0                               C                                  \n1                               C                                  \n2                               C                                  \n3                                                               C  \n4                               C                                  \n\n[5 rows x 27 columns]",
      "text/html": "<div>\n<style scoped>\n    .dataframe tbody tr th:only-of-type {\n        vertical-align: middle;\n    }\n\n    .dataframe tbody tr th {\n        vertical-align: top;\n    }\n\n    .dataframe thead th {\n        text-align: right;\n    }\n</style>\n<table border=\"1\" class=\"dataframe\">\n  <thead>\n    <tr style=\"text-align: right;\">\n      <th></th>\n      <th>day</th>\n      <th>month</th>\n      <th>Climatology</th>\n      <th>Salinity var</th>\n      <th>Salinity count</th>\n      <th>Standard Error</th>\n      <th>2 SD +</th>\n      <th>2 SD -</th>\n      <th>Observed</th>\n      <th>CeNCOOS</th>\n      <th>...</th>\n      <th>RTOFS Model Below Climatology</th>\n      <th>RTOFS Model Above Climatology</th>\n      <th>CeNCOOS Model Below Climatology</th>\n      <th>CeNCOOS Model Above Climatology</th>\n      <th>Observed Model Below Climatology</th>\n      <th>Observed Model Above Climatology</th>\n      <th>RTOFS Model Below Observation</th>\n      <th>RTOFS Model Above Observation</th>\n      <th>CeNCOOS Model Below Observation</th>\n      <th>CeNCOOS Model Above Observation</th>\n    </tr>\n  </thead>\n  <tbody>\n    <tr>\n      <th>0</th>\n      <td>14</td>\n      <td>8</td>\n      <td>33.569776</td>\n      <td>0.036868</td>\n      <td>9</td>\n      <td>0.064004</td>\n      <td>33.697783</td>\n      <td>33.441769</td>\n      <td>33.756000</td>\n      <td>33.640703</td>\n      <td>...</td>\n      <td>R</td>\n      <td></td>\n      <td></td>\n      <td>C</td>\n      <td></td>\n      <td>O</td>\n      <td>R</td>\n      <td></td>\n      <td>C</td>\n      <td></td>\n    </tr>\n    <tr>\n      <th>1</th>\n      <td>15</td>\n      <td>8</td>\n      <td>33.571839</td>\n      <td>0.035615</td>\n      <td>9</td>\n      <td>0.062906</td>\n      <td>33.697651</td>\n      <td>33.446026</td>\n      <td>33.715375</td>\n      <td>33.705039</td>\n      <td>...</td>\n      <td></td>\n      <td>R</td>\n      <td></td>\n      <td>C</td>\n      <td></td>\n      <td>O</td>\n      <td>R</td>\n      <td></td>\n      <td>C</td>\n      <td></td>\n    </tr>\n    <tr>\n      <th>2</th>\n      <td>16</td>\n      <td>8</td>\n      <td>33.559626</td>\n      <td>0.031552</td>\n      <td>9</td>\n      <td>0.059210</td>\n      <td>33.678046</td>\n      <td>33.441206</td>\n      <td>33.735920</td>\n      <td>33.661183</td>\n      <td>...</td>\n      <td></td>\n      <td>R</td>\n      <td></td>\n      <td>C</td>\n      <td></td>\n      <td>O</td>\n      <td></td>\n      <td>R</td>\n      <td>C</td>\n      <td></td>\n    </tr>\n    <tr>\n      <th>3</th>\n      <td>17</td>\n      <td>8</td>\n      <td>33.563231</td>\n      <td>0.036382</td>\n      <td>9</td>\n      <td>0.063580</td>\n      <td>33.690390</td>\n      <td>33.436071</td>\n      <td>33.739250</td>\n      <td>33.749227</td>\n      <td>...</td>\n      <td></td>\n      <td>R</td>\n      <td></td>\n      <td>C</td>\n      <td></td>\n      <td>O</td>\n      <td></td>\n      <td>R</td>\n      <td></td>\n      <td>C</td>\n    </tr>\n    <tr>\n      <th>4</th>\n      <td>19</td>\n      <td>8</td>\n      <td>33.571937</td>\n      <td>0.037195</td>\n      <td>9</td>\n      <td>0.064286</td>\n      <td>33.700510</td>\n      <td>33.443364</td>\n      <td>33.724875</td>\n      <td>33.699739</td>\n      <td>...</td>\n      <td></td>\n      <td>R</td>\n      <td></td>\n      <td>C</td>\n      <td></td>\n      <td>O</td>\n      <td>R</td>\n      <td></td>\n      <td>C</td>\n      <td></td>\n    </tr>\n  </tbody>\n</table>\n<p>5 rows × 27 columns</p>\n</div>"
     },
     "execution_count": 23,
     "metadata": {},
     "output_type": "execute_result"
    }
   ],
   "source": [
    "for i in range(0,len(sources)):\n",
    "\n",
    "    salinity[sources[i] + \" Model Below Climatology\"]= pairwise_comparison(salinity[sources[i]],sourcesabbv[i], salinity[\"Climatology\"],\"\")\n",
    "\n",
    "    salinity[sources[i] + \" Model Above Climatology\"]= pairwise_comparison(salinity[sources[i]],\"\",salinity[\"Climatology\"],sourcesabbv[i])\n",
    "\n",
    "\n",
    "for i in range(0,len(models)):\n",
    "    salinity[models[i] + \" Model Below Observation\"]= pairwise_comparison(salinity[models[i]],modelabbv[i],salinity['Observed'],\"\")\n",
    "\n",
    "    salinity[models[i] + \" Model Above Observation\"]= pairwise_comparison(salinity[models[i]],\"\",salinity['Observed'],modelabbv[i])\n",
    "\n",
    "\n",
    "salinity.head(5)"
   ],
   "metadata": {
    "collapsed": false,
    "pycharm": {
     "name": "#%%\n"
    }
   }
  },
  {
   "cell_type": "code",
   "execution_count": 24,
   "metadata": {},
   "outputs": [
    {
     "name": "stdout",
     "output_type": "stream",
     "text": [
      "Times RTOFS Model was Above Climatology 53\n",
      "Times RTOFS Model was Below Climatology 22\n",
      " \n",
      "Times CeNCOOS Model was Above Climatology 35\n",
      "Times CeNCOOS Model was Below Climatology 40\n",
      " \n",
      "Times Observed Model was Above Climatology 43\n",
      "Times Observed Model was Below Climatology 32\n",
      " \n",
      "Times RTOFS Model was Above Observation 32\n",
      "Times RTOFS Model was Below Observation 43\n",
      " \n",
      "Times CeNCOOS Model was Above Observation 23\n",
      "Times CeNCOOS Model was Below Observation 52\n",
      " \n"
     ]
    }
   ],
   "source": [
    "#counting times observation was above or below climatology\n",
    "counter = 0\n",
    "for i in range(0,len(sources)):\n",
    "  \n",
    "    var_name[name[counter]] =  sum_1_column(salinity[sources[i]+ \" Model Above Climatology\"],sourcesabbv[i])\n",
    "    print(\"Times \"+ sources[i] + \" Model was Above Climatology\", var_name[name[counter]])\n",
    "    counter +=1\n",
    "    var_name[name[counter]] =  sum_1_column(salinity[sources[i]+ \" Model Below Climatology\"],sourcesabbv[i])\n",
    "    print(\"Times \"+ sources[i] + \" Model was Below Climatology\", var_name[name[counter]])\n",
    "    counter +=1\n",
    "    print(\" \")\n",
    "\n",
    "for i in range(0,len(models)):\n",
    "    counter \n",
    "    var_name[name[counter]] =  sum_1_column(salinity[models[i]+ \" Model Above Observation\"],modelabbv[i])\n",
    "    print(\"Times \"+ models[i] + \" Model was Above Observation\", var_name[name[counter]])\n",
    "    counter +=1 \n",
    "    var_name[name[counter]] =  sum_1_column(salinity[models[i]+ \" Model Below Observation\"],modelabbv[i])\n",
    "    print(\"Times \"+ models[i] + \" Model was Below Observation\", var_name[name[counter]])\n",
    "    counter +=1\n",
    "    print(\" \")"
   ]
  },
  {
   "cell_type": "code",
   "execution_count": 25,
   "metadata": {},
   "outputs": [
    {
     "name": "stdout",
     "output_type": "stream",
     "text": [
      "true positive 39\n",
      "true negative 18\n",
      "false negative 4\n",
      "false positive 14\n",
      "\n",
      "Precision: 0.7358490566037735\n",
      "Recall: 0.9069767441860465\n",
      "Accuracy: 0.76\n",
      "F1 Score: 0.8124999999999999\n"
     ]
    }
   ],
   "source": [
    "sum_cmatrix(salinity,\"RTOFS Model Above Climatology\",\"RTOFS Model Below Climatology\",\"R\",\"Observed Model Above Climatology\",\"Observed Model Below Climatology\",\"O\")"
   ]
  },
  {
   "cell_type": "code",
   "execution_count": 26,
   "metadata": {
    "pycharm": {
     "name": "#%%\n"
    }
   },
   "outputs": [
    {
     "name": "stdout",
     "output_type": "stream",
     "text": [
      "true positive 33\n",
      "true negative 30\n",
      "false negative 10\n",
      "false positive 2\n",
      "\n",
      "Precision: 0.9428571428571428\n",
      "Recall: 0.7674418604651163\n",
      "Accuracy: 0.84\n",
      "F1 Score: 0.8461538461538461\n"
     ]
    }
   ],
   "source": [
    "sum_cmatrix(salinity,\"CeNCOOS Model Above Climatology\",\"CeNCOOS Model Below Climatology\",\"C\",\"Observed Model Above Climatology\",\"Observed Model Below Climatology\",\"O\")"
   ]
  }
 ],
 "metadata": {
  "kernelspec": {
   "display_name": "Python 3",
   "language": "python",
   "name": "python3"
  },
  "language_info": {
   "codemirror_mode": {
    "name": "ipython",
    "version": 3
   },
   "file_extension": ".py",
   "mimetype": "text/x-python",
   "name": "python",
   "nbconvert_exporter": "python",
   "pygments_lexer": "ipython3",
   "version": "3.8.5"
  }
 },
 "nbformat": 4,
 "nbformat_minor": 4
}