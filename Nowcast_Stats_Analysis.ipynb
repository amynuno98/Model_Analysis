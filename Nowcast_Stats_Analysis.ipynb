{
 "cells": [
  {
   "cell_type": "markdown",
   "source": [
    "# Nowcast Statistical Analysis\n",
    "## An assessment of Sea Surface Temperature (SST) CeNCOOS(nowcast) and observed data in the Bay Area.\n",
    "### This notebook presents an analysis of CeNCOOS predictions for a location where we have observed SSS recorded.\n",
    "### First, we load necessary packages and function. We prompt user date input for CeNCOOS. We have necessary functions for data extraction.\n",
    "### Second, we fetch and process CeNCOOS (netCDF format) from an online server and processed using the xarray package. We fetch observed data. We group data by day and month.\n",
    "### Third, we merge both data sets and produce summary statistics and plot."
   ],
   "metadata": {
    "collapsed": false
   }
  },
  {
   "cell_type": "code",
   "execution_count": 1,
   "metadata": {},
   "outputs": [],
   "source": [
    "#Looking at Nowcast and Observed Data for SST\n",
    "\n",
    "from typing import Tuple, Dict, List\n",
    "\n",
    "import numpy as np\n",
    "import xarray as xr\n",
    "import pandas as pd\n",
    "import sys\n",
    "import os\n",
    "import matplotlib.pyplot as plt\n",
    "\n",
    "sys.path.append(os.path.relpath('../src'))\n",
    "from statistical_analysis import statistical_analysis\n"
   ]
  },
  {
   "cell_type": "code",
   "execution_count": 2,
   "outputs": [],
   "source": [
    "#user input for nowcast dates\n",
    "\n",
    "#format of lists [year,month,day]\n",
    "\n",
    "#Nowcast\n",
    "min_date_CeNCOOS = [2021,8,1] #initial nowcast date desired\n",
    "max_date_CeNCOOS = [2021,12,16] #tomorrows date\n",
    "\n",
    "#need folder specifications"
   ],
   "metadata": {
    "collapsed": false,
    "pycharm": {
     "name": "#%%\n"
    }
   }
  },
  {
   "cell_type": "code",
   "execution_count": 3,
   "metadata": {},
   "outputs": [],
   "source": [
    "#downloading CeNOOS data\n",
    "\n",
    "def pad_with_zeros(x: int) -> str:\n",
    "    return str(x) if x > 9 else '0' + str(x)\n",
    "\n",
    "\n",
    "def convert_time_tuple_to_str(x: Tuple[int, int, int]):\n",
    "    \"\"\"\n",
    "    Converts a YYYY-MM-DD date, provided as a tuple, into a string\n",
    "\n",
    "    :param x: tuple with year, month, day as integers\n",
    "    :return: date string: YYYY-MM-DD, len=8, with 0s padding MM and DD as needed\n",
    "    \"\"\"\n",
    "    return str(x[0]) + '-' + pad_with_zeros(x[1]) + '-' + pad_with_zeros(x[2])\n",
    "\n",
    "\n",
    "def convert_str_to_date(date_string: str) -> np.datetime64:\n",
    "    return np.datetime64(date_string)\n",
    "\n",
    "\n",
    "def get_cencoos_historical(\n",
    "        lon: float,\n",
    "        lat: float,\n",
    "        min_date: Tuple[int, int, int],\n",
    "        max_date: Tuple[int, int, int],\n",
    "        output_folder: str\n",
    ") -> str:\n",
    "    \"\"\"\n",
    "    Retrieve sea surface nowcast and forecast from 3km CeNCOOS (SST, SSS, u, v)\n",
    "    :param lon: longitude of interest\n",
    "    :param lat: latitude of interest\n",
    "    :param min_date: current date (tuple with year, month, day)\n",
    "    :param max_date: last day of forecast (tuple with year, month, day)\n",
    "    :param output_folder: name of folder where downloaded netCDF file is stored\n",
    "    :return: path to new netCDF file created in device that holds the data\n",
    "    \"\"\"\n",
    "    min_time = convert_str_to_date(convert_time_tuple_to_str(min_date) + 'T00:00:00')\n",
    "    max_time = convert_str_to_date(convert_time_tuple_to_str(max_date) + 'T23:59:59')\n",
    "    print('Connecting to CeNCOOS')\n",
    "    try:\n",
    "        full_ds = xr.open_dataset('http://thredds.cencoos.org/thredds/dodsC/CENCOOS_CA_ROMS_DAS.nc')\n",
    "    except Exception as e:\n",
    "        output_file = 'Could not connect!'\n",
    "    else:\n",
    "        ti = full_ds.coords[\"time\"]\n",
    "        if ti[-1].data < min_time:  # CeNCOOS is not always up to date :-(\n",
    "            output_file = 'Last timestamp on CeNCOOS less than min_time'\n",
    "        else:\n",
    "            print('Fetching data chunk')\n",
    "            chunk = full_ds.loc[dict(depth=0,\n",
    "                                     lat=slice(lat - 0.015, lat + 0.015),\n",
    "                                     lon=slice(np.mod(lon - 0.015, 360), np.mod(lon + 0.015, 360)),\n",
    "                                     time=(ti >= min_time) & (ti <= max_time))]\n",
    "            output_file = output_folder + 'cencoos.nc'\n",
    "            chunk = (\n",
    "                chunk\n",
    "                    .load()\n",
    "                    .rename({'temp': 'sst', 'salt': 'sss'})\n",
    "                    .assign_coords(lon=(((chunk.lon + 180) % 360) - 180))\n",
    "             )\n",
    "            print('Storing to disk')\n",
    "            chunk.to_netcdf(output_file)\n",
    "     \n",
    "    return output_file\n",
    "\n",
    "\n",
    "def extract_data_from_nc(nc_folder: str, ocean_var: str) -> pd.DataFrame:\n",
    "    \"\"\"\n",
    "    Read netCDF file from disk and extract data from one ocean variable\n",
    "    :param nc_folder: location of 'cencoos.nc' file\n",
    "    :param ocean_var: one of 'sst' (sea surface temperature),\n",
    "                             'sss' (sea surface salinity),\n",
    "                             'u' (surface zonal current speed),\n",
    "                             'v' (surface meridional current speed)\n",
    "                             'zeta'(sea surface height)\n",
    "    \"\"\"\n",
    "    if not ocean_var in ['sst', 'sss', 'u', 'v', 'zeta']:\n",
    "        raise Exception('Variable not in file')\n",
    "    b = xr.open_dataset(nc_folder + 'cencoos.nc')\n",
    "    df = pd.DataFrame({'time': np.array(b['time']),\n",
    "                      ocean_var: np.array([x[0][0] for x in b[ocean_var]])})\n",
    "    return df\n",
    "\n",
    "        "
   ]
  },
  {
   "cell_type": "code",
   "execution_count": 4,
   "metadata": {},
   "outputs": [
    {
     "name": "stdout",
     "output_type": "stream",
     "text": [
      "Connecting to CeNCOOS\n",
      "Fetching data chunk\n",
      "Storing to disk\n"
     ]
    },
    {
     "data": {
      "text/plain": "'/Users/amygizel/Documents/Seadog Internship/Model_Analysis/data/cencoos.nc'"
     },
     "execution_count": 4,
     "metadata": {},
     "output_type": "execute_result"
    }
   ],
   "source": [
    "folder = '/Users/amygizel/Documents/Seadog Internship/Model_Analysis/data/' #specify desired folder to save\n",
    "\n",
    "\n",
    "get_cencoos_historical(lon=-122.6,\n",
    "                       lat=37.8,\n",
    "                       min_date=(min_date_CeNCOOS[0],min_date_CeNCOOS[1], min_date_CeNCOOS[2]), #initial nowcast date desired\n",
    "                       max_date=(max_date_CeNCOOS[0],max_date_CeNCOOS[1], max_date_CeNCOOS[2]), #tomorrows date\n",
    "                       output_folder= folder)"
   ]
  },
  {
   "cell_type": "code",
   "execution_count": 5,
   "metadata": {},
   "outputs": [
    {
     "data": {
      "text/plain": "                 time        sst\n0 2021-08-01 03:00:00  11.242288\n1 2021-08-01 09:00:00  11.313168\n2 2021-08-01 15:00:00  11.417974\n3 2021-08-01 21:00:00  11.888391\n4 2021-08-02 03:00:00  11.531926",
      "text/html": "<div>\n<style scoped>\n    .dataframe tbody tr th:only-of-type {\n        vertical-align: middle;\n    }\n\n    .dataframe tbody tr th {\n        vertical-align: top;\n    }\n\n    .dataframe thead th {\n        text-align: right;\n    }\n</style>\n<table border=\"1\" class=\"dataframe\">\n  <thead>\n    <tr style=\"text-align: right;\">\n      <th></th>\n      <th>time</th>\n      <th>sst</th>\n    </tr>\n  </thead>\n  <tbody>\n    <tr>\n      <th>0</th>\n      <td>2021-08-01 03:00:00</td>\n      <td>11.242288</td>\n    </tr>\n    <tr>\n      <th>1</th>\n      <td>2021-08-01 09:00:00</td>\n      <td>11.313168</td>\n    </tr>\n    <tr>\n      <th>2</th>\n      <td>2021-08-01 15:00:00</td>\n      <td>11.417974</td>\n    </tr>\n    <tr>\n      <th>3</th>\n      <td>2021-08-01 21:00:00</td>\n      <td>11.888391</td>\n    </tr>\n    <tr>\n      <th>4</th>\n      <td>2021-08-02 03:00:00</td>\n      <td>11.531926</td>\n    </tr>\n  </tbody>\n</table>\n</div>"
     },
     "execution_count": 5,
     "metadata": {},
     "output_type": "execute_result"
    }
   ],
   "source": [
    "big_df = extract_data_from_nc(nc_folder= folder, ocean_var='sst')\n",
    "\n",
    "big_df.head(5)"
   ]
  },
  {
   "cell_type": "code",
   "execution_count": 6,
   "metadata": {},
   "outputs": [
    {
     "data": {
      "text/plain": "     day  month    CeNCOOS\n0      1      8  11.465455\n1      2      8  11.613916\n2      3      8  11.523390\n3      4      8  11.009763\n4      5      8  10.454076\n..   ...    ...        ...\n132   11     12  13.468299\n133   12     12  13.417053\n134   13     12  13.523521\n135   14     12  13.470802\n136   15     12  13.393702\n\n[137 rows x 3 columns]",
      "text/html": "<div>\n<style scoped>\n    .dataframe tbody tr th:only-of-type {\n        vertical-align: middle;\n    }\n\n    .dataframe tbody tr th {\n        vertical-align: top;\n    }\n\n    .dataframe thead th {\n        text-align: right;\n    }\n</style>\n<table border=\"1\" class=\"dataframe\">\n  <thead>\n    <tr style=\"text-align: right;\">\n      <th></th>\n      <th>day</th>\n      <th>month</th>\n      <th>CeNCOOS</th>\n    </tr>\n  </thead>\n  <tbody>\n    <tr>\n      <th>0</th>\n      <td>1</td>\n      <td>8</td>\n      <td>11.465455</td>\n    </tr>\n    <tr>\n      <th>1</th>\n      <td>2</td>\n      <td>8</td>\n      <td>11.613916</td>\n    </tr>\n    <tr>\n      <th>2</th>\n      <td>3</td>\n      <td>8</td>\n      <td>11.523390</td>\n    </tr>\n    <tr>\n      <th>3</th>\n      <td>4</td>\n      <td>8</td>\n      <td>11.009763</td>\n    </tr>\n    <tr>\n      <th>4</th>\n      <td>5</td>\n      <td>8</td>\n      <td>10.454076</td>\n    </tr>\n    <tr>\n      <th>...</th>\n      <td>...</td>\n      <td>...</td>\n      <td>...</td>\n    </tr>\n    <tr>\n      <th>132</th>\n      <td>11</td>\n      <td>12</td>\n      <td>13.468299</td>\n    </tr>\n    <tr>\n      <th>133</th>\n      <td>12</td>\n      <td>12</td>\n      <td>13.417053</td>\n    </tr>\n    <tr>\n      <th>134</th>\n      <td>13</td>\n      <td>12</td>\n      <td>13.523521</td>\n    </tr>\n    <tr>\n      <th>135</th>\n      <td>14</td>\n      <td>12</td>\n      <td>13.470802</td>\n    </tr>\n    <tr>\n      <th>136</th>\n      <td>15</td>\n      <td>12</td>\n      <td>13.393702</td>\n    </tr>\n  </tbody>\n</table>\n<p>137 rows × 3 columns</p>\n</div>"
     },
     "execution_count": 6,
     "metadata": {},
     "output_type": "execute_result"
    }
   ],
   "source": [
    "#finding mean and merging in csv file\n",
    "\n",
    "big_df['month'] = [int(x) for x in big_df['time'].astype(str).str[5:7]]\n",
    "\n",
    "big_df['day'] = [int(x) for x in big_df['time'].astype(str).str[8:10]]\n",
    "\n",
    "big_df = big_df.drop(columns=[\"time\"])\n",
    "\n",
    "big_df=big_df.groupby(by = [\"day\",\"month\"]).mean()\n",
    "\n",
    "big_df.columns = [' '.join(col) for col in big_df.columns]\n",
    "\n",
    "big_df= big_df.reset_index(drop = False)\n",
    "\n",
    "big_df= big_df.dropna(subset = [\"s s t\"])\n",
    "\n",
    "big_df= big_df.rename(columns={\"s s t\": \"CeNCOOS\"})\n",
    "\n",
    "big_df = big_df.sort_values(['month','day']).reset_index(drop = True)\n",
    "\n",
    "big_df"
   ]
  },
  {
   "cell_type": "code",
   "execution_count": 7,
   "metadata": {},
   "outputs": [
    {
     "data": {
      "text/plain": "   day  month   Observed\n0    1     11  14.854167\n1    2     11  14.972917\n2    3     11  15.061702\n3    4     11  15.127660\n4    5     11  15.160417",
      "text/html": "<div>\n<style scoped>\n    .dataframe tbody tr th:only-of-type {\n        vertical-align: middle;\n    }\n\n    .dataframe tbody tr th {\n        vertical-align: top;\n    }\n\n    .dataframe thead th {\n        text-align: right;\n    }\n</style>\n<table border=\"1\" class=\"dataframe\">\n  <thead>\n    <tr style=\"text-align: right;\">\n      <th></th>\n      <th>day</th>\n      <th>month</th>\n      <th>Observed</th>\n    </tr>\n  </thead>\n  <tbody>\n    <tr>\n      <th>0</th>\n      <td>1</td>\n      <td>11</td>\n      <td>14.854167</td>\n    </tr>\n    <tr>\n      <th>1</th>\n      <td>2</td>\n      <td>11</td>\n      <td>14.972917</td>\n    </tr>\n    <tr>\n      <th>2</th>\n      <td>3</td>\n      <td>11</td>\n      <td>15.061702</td>\n    </tr>\n    <tr>\n      <th>3</th>\n      <td>4</td>\n      <td>11</td>\n      <td>15.127660</td>\n    </tr>\n    <tr>\n      <th>4</th>\n      <td>5</td>\n      <td>11</td>\n      <td>15.160417</td>\n    </tr>\n  </tbody>\n</table>\n</div>"
     },
     "execution_count": 7,
     "metadata": {},
     "output_type": "execute_result"
    }
   ],
   "source": [
    "#adding observed data\n",
    "\n",
    "url = 'https://www.ndbc.noaa.gov/data/realtime2/46237.txt'\n",
    "\n",
    "buoy = pd.read_csv(url, skiprows = [1], delim_whitespace=True)\n",
    "\n",
    "buoy = buoy.rename(columns={\"MM\": \"month\",\"DD\":\"day\"})\n",
    "\n",
    "buoy = buoy.drop(columns = [\"#YY\",\"hh\",\"mm\",\"WDIR\",\"WSPD\",\"GST\",\"WVHT\",\"DPD\",\"APD\",\"MWD\",\"PRES\",\"ATMP\",\"DEWP\",\"VIS\",\"PTDY\",\"TIDE\"])\n",
    "\n",
    "buoy = buoy.groupby(by = [\"day\",\"month\"]).mean()\n",
    "\n",
    "buoy.columns = [' '.join(col) for col in buoy.columns]\n",
    "\n",
    "buoy = buoy.reset_index(drop = False)\n",
    "\n",
    "buoy = buoy.dropna(subset = [\"W T M P\"])\n",
    "\n",
    "buoy = buoy.rename(columns={\"W T M P\": \"Observed\"})\n",
    "\n",
    "buoy = buoy.sort_values(['month','day']).reset_index(drop = True)\n",
    "\n",
    "buoy.head(5)"
   ]
  },
  {
   "cell_type": "code",
   "execution_count": 8,
   "metadata": {},
   "outputs": [
    {
     "data": {
      "text/plain": "    day  month    CeNCOOS   Observed\n0     1     11  12.516178  14.854167\n1     2     11  12.003427  14.972917\n2     3     11  11.855498  15.061702\n3     4     11  12.233976  15.127660\n4     5     11  12.210361  15.160417\n5     6     11  12.549644  15.060417\n6     7     11  12.663171  14.843478\n7     8     11  12.867436  14.572340\n8     9     11  12.937649  14.208333\n9    10     11  13.207421  14.621277\n10   11     11  13.355283  14.645833\n11   12     11  13.317386  14.706250\n12   13     11  13.296004  14.714583\n13   14     11  13.886858  14.568750\n14   15     11  13.915256  14.489362\n15   16     11  13.976509  14.510417\n16   17     11  14.113682  14.427660\n17   18     11  14.198462  14.210638\n18   19     11  14.204093  14.231250\n19   20     11  14.088772  14.202083",
      "text/html": "<div>\n<style scoped>\n    .dataframe tbody tr th:only-of-type {\n        vertical-align: middle;\n    }\n\n    .dataframe tbody tr th {\n        vertical-align: top;\n    }\n\n    .dataframe thead th {\n        text-align: right;\n    }\n</style>\n<table border=\"1\" class=\"dataframe\">\n  <thead>\n    <tr style=\"text-align: right;\">\n      <th></th>\n      <th>day</th>\n      <th>month</th>\n      <th>CeNCOOS</th>\n      <th>Observed</th>\n    </tr>\n  </thead>\n  <tbody>\n    <tr>\n      <th>0</th>\n      <td>1</td>\n      <td>11</td>\n      <td>12.516178</td>\n      <td>14.854167</td>\n    </tr>\n    <tr>\n      <th>1</th>\n      <td>2</td>\n      <td>11</td>\n      <td>12.003427</td>\n      <td>14.972917</td>\n    </tr>\n    <tr>\n      <th>2</th>\n      <td>3</td>\n      <td>11</td>\n      <td>11.855498</td>\n      <td>15.061702</td>\n    </tr>\n    <tr>\n      <th>3</th>\n      <td>4</td>\n      <td>11</td>\n      <td>12.233976</td>\n      <td>15.127660</td>\n    </tr>\n    <tr>\n      <th>4</th>\n      <td>5</td>\n      <td>11</td>\n      <td>12.210361</td>\n      <td>15.160417</td>\n    </tr>\n    <tr>\n      <th>5</th>\n      <td>6</td>\n      <td>11</td>\n      <td>12.549644</td>\n      <td>15.060417</td>\n    </tr>\n    <tr>\n      <th>6</th>\n      <td>7</td>\n      <td>11</td>\n      <td>12.663171</td>\n      <td>14.843478</td>\n    </tr>\n    <tr>\n      <th>7</th>\n      <td>8</td>\n      <td>11</td>\n      <td>12.867436</td>\n      <td>14.572340</td>\n    </tr>\n    <tr>\n      <th>8</th>\n      <td>9</td>\n      <td>11</td>\n      <td>12.937649</td>\n      <td>14.208333</td>\n    </tr>\n    <tr>\n      <th>9</th>\n      <td>10</td>\n      <td>11</td>\n      <td>13.207421</td>\n      <td>14.621277</td>\n    </tr>\n    <tr>\n      <th>10</th>\n      <td>11</td>\n      <td>11</td>\n      <td>13.355283</td>\n      <td>14.645833</td>\n    </tr>\n    <tr>\n      <th>11</th>\n      <td>12</td>\n      <td>11</td>\n      <td>13.317386</td>\n      <td>14.706250</td>\n    </tr>\n    <tr>\n      <th>12</th>\n      <td>13</td>\n      <td>11</td>\n      <td>13.296004</td>\n      <td>14.714583</td>\n    </tr>\n    <tr>\n      <th>13</th>\n      <td>14</td>\n      <td>11</td>\n      <td>13.886858</td>\n      <td>14.568750</td>\n    </tr>\n    <tr>\n      <th>14</th>\n      <td>15</td>\n      <td>11</td>\n      <td>13.915256</td>\n      <td>14.489362</td>\n    </tr>\n    <tr>\n      <th>15</th>\n      <td>16</td>\n      <td>11</td>\n      <td>13.976509</td>\n      <td>14.510417</td>\n    </tr>\n    <tr>\n      <th>16</th>\n      <td>17</td>\n      <td>11</td>\n      <td>14.113682</td>\n      <td>14.427660</td>\n    </tr>\n    <tr>\n      <th>17</th>\n      <td>18</td>\n      <td>11</td>\n      <td>14.198462</td>\n      <td>14.210638</td>\n    </tr>\n    <tr>\n      <th>18</th>\n      <td>19</td>\n      <td>11</td>\n      <td>14.204093</td>\n      <td>14.231250</td>\n    </tr>\n    <tr>\n      <th>19</th>\n      <td>20</td>\n      <td>11</td>\n      <td>14.088772</td>\n      <td>14.202083</td>\n    </tr>\n  </tbody>\n</table>\n</div>"
     },
     "execution_count": 8,
     "metadata": {},
     "output_type": "execute_result"
    }
   ],
   "source": [
    "#merging Observed and Nowcast Data\n",
    "df = pd.merge(left=big_df, right=buoy[[\"Observed\",\"day\",\"month\"]], on=[\"day\",\"month\"], how='inner')\n",
    "\n",
    "df = df.sort_values(['month','day']).reset_index(drop = True)\n",
    "\n",
    "df.head(20)"
   ]
  },
  {
   "cell_type": "code",
   "execution_count": 9,
   "metadata": {},
   "outputs": [
    {
     "data": {
      "text/plain": "<Figure size 432x288 with 1 Axes>",
      "image/png": "[encoded data removed]"
     },
     "metadata": {
      "needs_background": "light"
     },
     "output_type": "display_data"
    }
   ],
   "source": [
    "#plotting graph\n",
    "\n",
    "plt.plot(df.index,df['CeNCOOS'],'r.', label= 'CeNCOOS Model')\n",
    "plt.plot(df.index,df['Observed'],'g.', label= 'Observed')\n",
    "\n",
    "#actual data add to plot -->\n",
    "plt.legend()\n",
    "plt.xticks(rotation=45)\n",
    "plt.xlabel('Date')\n",
    "plt.ylabel('Sea Surface Temperature (C)')\n",
    "my_xticks =  []\n",
    "\n",
    "axis_seperation = 5\n",
    "for x in range(0,len(df[\"month\"])): \n",
    "    date = str(df[\"month\"][x])+ \"-\"+ str(df[\"day\"][x])\n",
    "    if x % axis_seperation == 0:\n",
    "        my_xticks.append(date)\n",
    "\n",
    "plt.xticks(df.index[::axis_seperation], my_xticks)\n",
    "\n",
    "plt.show()\n",
    "\n"
   ]
  },
  {
   "cell_type": "code",
   "execution_count": 10,
   "metadata": {
    "pycharm": {
     "name": "#%%\n"
    }
   },
   "outputs": [
    {
     "name": "stdout",
     "output_type": "stream",
     "text": [
      "0.9751670474547358 is the mean bias for lead time of None days\n",
      "1.3180721001893503 is the root mean squared error for lead time of None days\n",
      "0.4 is the percent gross error for lead time of None days\n",
      "6.903515758598431 is the mean absolute percentage error None days\n"
     ]
    }
   ],
   "source": [
    "statistical_analysis(None,df,\"CeNCOOS\",\"Observed\",1)"
   ]
  }
 ],
 "metadata": {
  "kernelspec": {
   "display_name": "Python 3",
   "language": "python",
   "name": "python3"
  },
  "language_info": {
   "codemirror_mode": {
    "name": "ipython",
    "version": 3
   },
   "file_extension": ".py",
   "mimetype": "text/x-python",
   "name": "python",
   "nbconvert_exporter": "python",
   "pygments_lexer": "ipython3",
   "version": "3.8.5"
  }
 },
 "nbformat": 4,
 "nbformat_minor": 4
}